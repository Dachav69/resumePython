{
 "cells": [
  {
   "cell_type": "markdown",
   "id": "e06910dd",
   "metadata": {
    "id": "e06910dd"
   },
   "source": [
    "# Развитие игровой индустрии в начале XXI века\n",
    "\n",
    "- Автор: Косачев В. А.\n",
    "- Дата: 2025-08-24"
   ]
  },
  {
   "cell_type": "markdown",
   "id": "4149134c",
   "metadata": {
    "id": "4149134c"
   },
   "source": [
    "### Цели и задачи проекта\n",
    "\n",
    "<font color='#777778'>Цель: изучить развитие игровой индустрии с 2000 по 2013 год.\n",
    "    \n",
    "Задачи: \n",
    "- Изучить и предобработать данные\n",
    "- Отобрать данные за 2000 - 2013 гг.\n",
    "- Разделить все игры по оценкам пользователей и критиков, выделить топ-7 платформ по количеству выпущенных игр</font>"
   ]
  },
  {
   "cell_type": "markdown",
   "id": "728986ea",
   "metadata": {
    "id": "728986ea"
   },
   "source": [
    "### Описание данных\n",
    "\n",
    "<font color='#777778'>Данные содержат информацию о продажах игр разных жанров и платформ, а также пользовательские и экспертные оценки игр:\n",
    "- Name — название игры.\n",
    "- Platform — название платформы.\n",
    "- Year of Release — год выпуска игры.\n",
    "- Genre — жанр игры.\n",
    "- NA sales — продажи в Северной Америке (в миллионах проданных копий).\n",
    "- EU sales — продажи в Европе (в миллионах проданных копий).\n",
    "- JP sales — продажи в Японии (в миллионах проданных копий).\n",
    "- Other sales — продажи в других странах (в миллионах проданных копий).\n",
    "- Critic Score — оценка критиков (от 0 до 100).\n",
    "- User Score — оценка пользователей (от 0 до 10).\n",
    "- Rating — рейтинг организации ESRB (англ. Entertainment Software Rating Board). Эта ассоциация определяет рейтинг компьютерных игр и присваивает им подходящую возрастную категорию.</font>"
   ]
  },
  {
   "cell_type": "markdown",
   "id": "4fecaf95",
   "metadata": {
    "id": "4fecaf95"
   },
   "source": [
    "### Содержимое проекта\n",
    "\n",
    "<font color='#777778'>\n",
    "    \n",
    "1. [Загрузка данных и знакомство с ними](#Загрузка-данных-и-знакомство-с-ними)\n",
    "2. [Проверка ошибок в данных и их предобработка](#Проверка-ошибок-в-данных-и-их-предобработка)\n",
    "    1. [Названия, или метки, столбцов датафрейма](#Названия,-или-метки,-столбцов-датафрейма)\n",
    "    2. [Типы данных](#Типы-данных)\n",
    "    3. [Наличие пропусков в данных](#Наличие-пропусков-в-данных)\n",
    "    4. [Явные и неявные дубликаты в данных](#Явные-и-неявные-дубликаты-в-данных)\n",
    "3. [Фильтрация данных](#Фильтрация-данных)\n",
    "4. [Категоризация данных](#Категоризация-данных)\n",
    "5. [Итоговый вывод](#Итоговый-вывод)</font>\n",
    "\n",
    "---"
   ]
  },
  {
   "cell_type": "markdown",
   "id": "6f7d21d6",
   "metadata": {
    "id": "6f7d21d6"
   },
   "source": [
    "## Загрузка данных и знакомство с ними\n",
    "\n",
    "- Загрузим необходимые библиотеки Python и данные датасета.\n"
   ]
  },
  {
   "cell_type": "code",
   "execution_count": 1,
   "id": "ebb66dc5",
   "metadata": {
    "id": "ebb66dc5"
   },
   "outputs": [],
   "source": [
    "import pandas as pd"
   ]
  },
  {
   "cell_type": "code",
   "execution_count": 2,
   "id": "0efa60dc",
   "metadata": {},
   "outputs": [],
   "source": [
    "df = pd.read_csv('https://code.s3.yandex.net/datasets/new_games.csv')"
   ]
  },
  {
   "cell_type": "markdown",
   "id": "e0a8705f",
   "metadata": {
    "id": "e0a8705f"
   },
   "source": [
    "- Познакомимся с данными: выведем первые строки и результат метода `info()`."
   ]
  },
  {
   "cell_type": "code",
   "execution_count": 3,
   "id": "3937acf7",
   "metadata": {
    "id": "3937acf7",
    "scrolled": true
   },
   "outputs": [
    {
     "name": "stdout",
     "output_type": "stream",
     "text": [
      "<class 'pandas.core.frame.DataFrame'>\n",
      "RangeIndex: 16956 entries, 0 to 16955\n",
      "Data columns (total 11 columns):\n",
      " #   Column           Non-Null Count  Dtype  \n",
      "---  ------           --------------  -----  \n",
      " 0   Name             16954 non-null  object \n",
      " 1   Platform         16956 non-null  object \n",
      " 2   Year of Release  16681 non-null  float64\n",
      " 3   Genre            16954 non-null  object \n",
      " 4   NA sales         16956 non-null  float64\n",
      " 5   EU sales         16956 non-null  object \n",
      " 6   JP sales         16956 non-null  object \n",
      " 7   Other sales      16956 non-null  float64\n",
      " 8   Critic Score     8242 non-null   float64\n",
      " 9   User Score       10152 non-null  object \n",
      " 10  Rating           10085 non-null  object \n",
      "dtypes: float64(4), object(7)\n",
      "memory usage: 1.4+ MB\n"
     ]
    }
   ],
   "source": [
    "df.info()"
   ]
  },
  {
   "cell_type": "code",
   "execution_count": 4,
   "id": "d21bf5de",
   "metadata": {},
   "outputs": [
    {
     "data": {
      "text/html": [
       "<div>\n",
       "<style scoped>\n",
       "    .dataframe tbody tr th:only-of-type {\n",
       "        vertical-align: middle;\n",
       "    }\n",
       "\n",
       "    .dataframe tbody tr th {\n",
       "        vertical-align: top;\n",
       "    }\n",
       "\n",
       "    .dataframe thead th {\n",
       "        text-align: right;\n",
       "    }\n",
       "</style>\n",
       "<table border=\"1\" class=\"dataframe\">\n",
       "  <thead>\n",
       "    <tr style=\"text-align: right;\">\n",
       "      <th></th>\n",
       "      <th>Name</th>\n",
       "      <th>Platform</th>\n",
       "      <th>Year of Release</th>\n",
       "      <th>Genre</th>\n",
       "      <th>NA sales</th>\n",
       "      <th>EU sales</th>\n",
       "      <th>JP sales</th>\n",
       "      <th>Other sales</th>\n",
       "      <th>Critic Score</th>\n",
       "      <th>User Score</th>\n",
       "      <th>Rating</th>\n",
       "    </tr>\n",
       "  </thead>\n",
       "  <tbody>\n",
       "    <tr>\n",
       "      <th>0</th>\n",
       "      <td>Wii Sports</td>\n",
       "      <td>Wii</td>\n",
       "      <td>2006.0</td>\n",
       "      <td>Sports</td>\n",
       "      <td>41.36</td>\n",
       "      <td>28.96</td>\n",
       "      <td>3.77</td>\n",
       "      <td>8.45</td>\n",
       "      <td>76.0</td>\n",
       "      <td>8</td>\n",
       "      <td>E</td>\n",
       "    </tr>\n",
       "    <tr>\n",
       "      <th>1</th>\n",
       "      <td>Super Mario Bros.</td>\n",
       "      <td>NES</td>\n",
       "      <td>1985.0</td>\n",
       "      <td>Platform</td>\n",
       "      <td>29.08</td>\n",
       "      <td>3.58</td>\n",
       "      <td>6.81</td>\n",
       "      <td>0.77</td>\n",
       "      <td>NaN</td>\n",
       "      <td>NaN</td>\n",
       "      <td>NaN</td>\n",
       "    </tr>\n",
       "    <tr>\n",
       "      <th>2</th>\n",
       "      <td>Mario Kart Wii</td>\n",
       "      <td>Wii</td>\n",
       "      <td>2008.0</td>\n",
       "      <td>Racing</td>\n",
       "      <td>15.68</td>\n",
       "      <td>12.76</td>\n",
       "      <td>3.79</td>\n",
       "      <td>3.29</td>\n",
       "      <td>82.0</td>\n",
       "      <td>8.3</td>\n",
       "      <td>E</td>\n",
       "    </tr>\n",
       "    <tr>\n",
       "      <th>3</th>\n",
       "      <td>Wii Sports Resort</td>\n",
       "      <td>Wii</td>\n",
       "      <td>2009.0</td>\n",
       "      <td>Sports</td>\n",
       "      <td>15.61</td>\n",
       "      <td>10.93</td>\n",
       "      <td>3.28</td>\n",
       "      <td>2.95</td>\n",
       "      <td>80.0</td>\n",
       "      <td>8</td>\n",
       "      <td>E</td>\n",
       "    </tr>\n",
       "    <tr>\n",
       "      <th>4</th>\n",
       "      <td>Pokemon Red/Pokemon Blue</td>\n",
       "      <td>GB</td>\n",
       "      <td>1996.0</td>\n",
       "      <td>Role-Playing</td>\n",
       "      <td>11.27</td>\n",
       "      <td>8.89</td>\n",
       "      <td>10.22</td>\n",
       "      <td>1.00</td>\n",
       "      <td>NaN</td>\n",
       "      <td>NaN</td>\n",
       "      <td>NaN</td>\n",
       "    </tr>\n",
       "  </tbody>\n",
       "</table>\n",
       "</div>"
      ],
      "text/plain": [
       "                       Name Platform  Year of Release         Genre  NA sales  \\\n",
       "0                Wii Sports      Wii           2006.0        Sports     41.36   \n",
       "1         Super Mario Bros.      NES           1985.0      Platform     29.08   \n",
       "2            Mario Kart Wii      Wii           2008.0        Racing     15.68   \n",
       "3         Wii Sports Resort      Wii           2009.0        Sports     15.61   \n",
       "4  Pokemon Red/Pokemon Blue       GB           1996.0  Role-Playing     11.27   \n",
       "\n",
       "  EU sales JP sales  Other sales  Critic Score User Score Rating  \n",
       "0    28.96     3.77         8.45          76.0          8      E  \n",
       "1     3.58     6.81         0.77           NaN        NaN    NaN  \n",
       "2    12.76     3.79         3.29          82.0        8.3      E  \n",
       "3    10.93     3.28         2.95          80.0          8      E  \n",
       "4     8.89    10.22         1.00           NaN        NaN    NaN  "
      ]
     },
     "execution_count": 4,
     "metadata": {},
     "output_type": "execute_result"
    }
   ],
   "source": [
    "df.head()"
   ]
  },
  {
   "cell_type": "markdown",
   "id": "070e952c",
   "metadata": {},
   "source": [
    "- Данные содержатся в 16 956 строчках. Пропуски отсутствуют только в столбцах с информацией о платформе и продажах игр ('Names', 'NA sales', 'EU sales', 'JP sales'). В некоторых столбцах, в которых содержится количественная информация, тип данных -- 'object'. В столбцах с тип данных 'float64' можно уменьшить использование памяти.\n"
   ]
  },
  {
   "cell_type": "markdown",
   "id": "774bf76e",
   "metadata": {
    "id": "774bf76e"
   },
   "source": [
    "---\n",
    "\n",
    "##  Проверка ошибок в данных и их предобработка\n",
    "\n",
    "\n",
    "### Названия, или метки, столбцов датафрейма\n",
    "\n",
    "- Выведем на экран названия всех столбцов датафрейма и проверим их стиль написания.\n",
    "- Приведем все столбцы к стилю snake case."
   ]
  },
  {
   "cell_type": "code",
   "execution_count": 5,
   "id": "b9276a2b",
   "metadata": {
    "id": "b9276a2b"
   },
   "outputs": [
    {
     "data": {
      "text/plain": [
       "Index(['Name', 'Platform', 'Year of Release', 'Genre', 'NA sales', 'EU sales',\n",
       "       'JP sales', 'Other sales', 'Critic Score', 'User Score', 'Rating'],\n",
       "      dtype='object')"
      ]
     },
     "execution_count": 5,
     "metadata": {},
     "output_type": "execute_result"
    }
   ],
   "source": [
    "df.columns"
   ]
  },
  {
   "cell_type": "code",
   "execution_count": 6,
   "id": "d554563c",
   "metadata": {
    "id": "d554563c"
   },
   "outputs": [],
   "source": [
    "df.columns = df.columns.str.replace(' ', '_').str.lower()"
   ]
  },
  {
   "cell_type": "code",
   "execution_count": 7,
   "id": "87b573dd",
   "metadata": {
    "id": "87b573dd"
   },
   "outputs": [
    {
     "data": {
      "text/plain": [
       "Index(['name', 'platform', 'year_of_release', 'genre', 'na_sales', 'eu_sales',\n",
       "       'jp_sales', 'other_sales', 'critic_score', 'user_score', 'rating'],\n",
       "      dtype='object')"
      ]
     },
     "execution_count": 7,
     "metadata": {},
     "output_type": "execute_result"
    }
   ],
   "source": [
    "df.columns"
   ]
  },
  {
   "cell_type": "markdown",
   "id": "41bc6bf8",
   "metadata": {
    "id": "41bc6bf8"
   },
   "source": [
    "### Типы данных"
   ]
  },
  {
   "cell_type": "markdown",
   "id": "889500f8",
   "metadata": {},
   "source": [
    "- В столбце с годом выпуска заменим пропуски на 0"
   ]
  },
  {
   "cell_type": "code",
   "execution_count": 8,
   "id": "8adaac81",
   "metadata": {
    "id": "8adaac81"
   },
   "outputs": [],
   "source": [
    "df['year_of_release'] = df['year_of_release'].fillna(0).astype('int64')"
   ]
  },
  {
   "cell_type": "markdown",
   "id": "0509ff91",
   "metadata": {
    "id": "e8412c01"
   },
   "source": [
    "- Узнаем, почему поля с продажами в Европе и Японии и оценками пользователей имеют тип 'object'"
   ]
  },
  {
   "cell_type": "code",
   "execution_count": 9,
   "id": "9e53cff4",
   "metadata": {
    "id": "9e53cff4"
   },
   "outputs": [
    {
     "data": {
      "text/plain": [
       "array(['28.96', '3.58', '12.76', '10.93', '8.89', '2.26', '9.14', '9.18',\n",
       "       '6.94', '0.63', '10.95', '7.47', '6.18', '8.03', '4.89', '8.49',\n",
       "       '9.09', '0.4', '3.75', '9.2', '4.46', '2.71', '3.44', '5.14',\n",
       "       '5.49', '3.9', '5.35', '3.17', '5.09', '4.24', '5.04', '5.86',\n",
       "       '3.68', '4.19', '5.73', '3.59', '4.51', '2.55', '4.02', '4.37',\n",
       "       '6.31', '3.45', '2.81', '2.85', '3.49', '0.01', '3.35', '2.04',\n",
       "       '3.07', '3.87', '3.0', '4.82', '3.64', '2.15', '3.69', '2.65',\n",
       "       '2.56', '3.11', '3.14', '1.94', '1.95', '2.47', '2.28', '3.42',\n",
       "       '3.63', '2.36', '1.71', '1.85', '2.79', '1.24', '6.12', '1.53',\n",
       "       '3.47', '2.24', '5.01', '2.01', '1.72', '2.07', '6.42', '3.86',\n",
       "       '0.45', '3.48', '1.89', '5.75', '2.17', '1.37', '2.35', '1.18',\n",
       "       '2.11', '1.88', '2.83', '2.99', '2.89', '3.27', '2.22', '2.14',\n",
       "       '1.45', '1.75', '1.04', '1.77', '3.02', '2.75', '2.16', '1.9',\n",
       "       '2.59', '2.2', '4.3', '0.93', '2.53', '2.52', '1.79', '1.3', '2.6',\n",
       "       '1.58', '1.2', '1.56', '1.34', '1.26', '0.83', '6.21', '2.8',\n",
       "       '1.59', '1.73', '4.33', '1.83', '0.0', '2.18', '1.98', '1.47',\n",
       "       '0.67', '1.55', '1.91', '0.69', '0.6', '1.93', '1.64', '0.55',\n",
       "       '2.19', '1.11', '2.29', '2.5', '0.96', '1.21', '1.12', '0.77',\n",
       "       '1.69', '1.08', '0.79', '2.37', '2.46', '0.26', '0.75', '1.25',\n",
       "       '2.43', '0.98', '0.74', '2.23', '0.61', '2.45', '1.41', '1.8',\n",
       "       '3.28', '1.16', '1.99', '1.38', '1.36', '1.17', '1.19', '0.99',\n",
       "       '1.68', '2.0', '1.33', '1.57', '1.48', '2.1', '1.27', '1.97',\n",
       "       '0.91', '1.39', '1.96', '0.24', '1.51', '0.14', '1.29', '2.39',\n",
       "       '1.03', '0.5', '0.58', '1.31', '2.02', '1.32', '1.01', '2.27',\n",
       "       '2.3', '1.82', '2.78', '0.44', '0.48', '0.27', '0.21', '2.48',\n",
       "       '0.51', '1.52', '0.04', '0.28', '1.35', '0.87', '2.13', '1.13',\n",
       "       '1.76', '0.76', '2.12', '0.66', '1.6', '1.44', '1.43', '1.7',\n",
       "       '0.47', '1.87', '0.86', '0.73', '1.28', '0.81', '1.09', '0.68',\n",
       "       '1.22', '1.4', '1.02', '1.49', '1.14', '0.49', '0.9', '0.38',\n",
       "       '1.42', '0.95', '1.62', '0.71', '1.05', '0.92', '0.33', '0.3',\n",
       "       '1.67', '1.0', '0.89', '0.1', '0.72', '0.59', '0.56', '0.16',\n",
       "       '0.97', '0.62', 'unknown', '0.85', '0.94', '0.88', '0.84', '1.06',\n",
       "       '0.2', '1.15', '0.8', '1.1', '0.7', '1.92', '0.32', '0.15', '0.53',\n",
       "       '0.09', '1.46', '0.29', '0.22', '1.23', '0.07', '0.17', '0.54',\n",
       "       '0.36', '0.31', '1.84', '0.52', '0.11', '0.64', '0.12', '2.05',\n",
       "       '1.63', '0.82', '0.08', '0.57', '1.65', '0.19', '0.02', '0.43',\n",
       "       '0.25', '1.5', '0.18', '0.39', '0.13', '1.07', '0.46', '0.41',\n",
       "       '0.06', '0.03', '0.37', '0.05', '0.23', '0.65', '0.42', '0.34',\n",
       "       '0.35', '0.78'], dtype=object)"
      ]
     },
     "execution_count": 9,
     "metadata": {},
     "output_type": "execute_result"
    }
   ],
   "source": [
    "df['eu_sales'].unique()"
   ]
  },
  {
   "cell_type": "code",
   "execution_count": 10,
   "id": "4f6fe469",
   "metadata": {},
   "outputs": [
    {
     "data": {
      "text/plain": [
       "array(['3.77', '6.81', '3.79', '3.28', '10.22', '4.22', '6.5', '2.93',\n",
       "       '4.7', '0.28', '1.93', '4.13', '7.2', '3.6', '0.24', '2.53',\n",
       "       '0.98', '0.41', '3.54', '4.16', '6.04', '4.18', '3.84', '0.06',\n",
       "       '0.47', '5.38', '5.32', '5.65', '1.87', '0.13', '3.12', '0.36',\n",
       "       '0.11', '4.35', '0.65', '0.07', '0.08', '0.49', '0.3', '2.66',\n",
       "       '2.69', '0.48', '0.38', '5.33', '1.91', '3.96', '3.1', '1.1',\n",
       "       '1.2', '0.14', '2.54', '2.14', '0.81', '2.12', '0.44', '3.15',\n",
       "       '1.25', '0.04', '0.0', '2.47', '2.23', '1.69', '0.01', '3.0',\n",
       "       '0.02', '4.39', '1.98', '0.1', '3.81', '0.05', '2.49', '1.58',\n",
       "       '3.14', '2.73', '0.66', '0.22', '3.63', '1.45', '1.31', '2.43',\n",
       "       '0.7', '0.35', '1.4', '0.6', '2.26', '1.42', '1.28', '1.39',\n",
       "       '0.87', '0.17', '0.94', '0.19', '0.21', '1.6', '0.16', '1.03',\n",
       "       '0.25', '2.06', '1.49', '1.29', '0.09', '2.87', '0.03', '0.78',\n",
       "       '0.83', '2.33', '2.02', '1.36', '1.81', '1.97', '0.91', '0.99',\n",
       "       '0.95', '2.0', '1.01', '2.78', '2.11', '1.09', '0.2', '1.9',\n",
       "       '1.27', '3.61', '1.57', '2.2', '1.7', '1.08', '0.15', '1.11',\n",
       "       '0.29', '1.54', '0.12', '0.89', '4.87', '1.52', '1.32', '1.15',\n",
       "       '4.1', '1.46', '0.46', '1.05', '1.61', '0.26', '1.38', '0.62',\n",
       "       '0.73', '0.57', '0.31', '0.58', '1.76', '2.1', '0.9', '0.51',\n",
       "       '0.64', '2.46', '0.23', '0.37', '0.92', '1.07', '2.62', '1.12',\n",
       "       '0.54', '0.27', '0.59', '3.67', '0.55', '1.75', '3.44', '0.33',\n",
       "       '2.55', '2.32', '2.79', '0.74', '3.18', '0.82', '0.77', '0.4',\n",
       "       '2.35', '3.19', '0.8', '0.76', '3.03', '0.88', 'unknown', '0.45',\n",
       "       '1.16', '0.34', '1.19', '1.13', '2.13', '1.96', '0.71', '1.04',\n",
       "       '2.68', '0.68', '2.65', '0.96', '2.41', '0.52', '0.18', '1.34',\n",
       "       '1.48', '2.34', '1.06', '1.21', '2.29', '1.63', '2.05', '2.17',\n",
       "       '1.56', '1.35', '1.33', '0.63', '0.79', '0.75', '0.53', '1.53',\n",
       "       '1.3', '0.39', '0.69', '0.42', '0.93', '0.56', '0.84', '0.72',\n",
       "       '0.32', '1.71', '1.65', '0.61', '1.51', '1.5', '1.44', '1.24',\n",
       "       '1.18', '1.37', '1.0', '1.26', '0.85', '0.43', '0.67', '1.14',\n",
       "       '0.86', '1.17', '0.5', '1.02', '0.97'], dtype=object)"
      ]
     },
     "execution_count": 10,
     "metadata": {},
     "output_type": "execute_result"
    }
   ],
   "source": [
    "df['jp_sales'].unique()"
   ]
  },
  {
   "cell_type": "code",
   "execution_count": 11,
   "id": "f463abea",
   "metadata": {},
   "outputs": [
    {
     "data": {
      "text/plain": [
       "array(['8', nan, '8.3', '8.5', '6.6', '8.4', '8.6', '7.7', '6.3', '7.4',\n",
       "       '8.2', '9', '7.9', '8.1', '8.7', '7.1', '3.4', '5.3', '4.8', '3.2',\n",
       "       '8.9', '6.4', '7.8', '7.5', '2.6', '7.2', '9.2', '7', '7.3', '4.3',\n",
       "       '7.6', '5.7', '5', '9.1', '6.5', 'tbd', '8.8', '6.9', '9.4', '6.8',\n",
       "       '6.1', '6.7', '5.4', '4', '4.9', '4.5', '9.3', '6.2', '4.2', '6',\n",
       "       '3.7', '4.1', '5.8', '5.6', '5.5', '4.4', '4.6', '5.9', '3.9',\n",
       "       '3.1', '2.9', '5.2', '3.3', '4.7', '5.1', '3.5', '2.5', '1.9', '3',\n",
       "       '2.7', '2.2', '2', '9.5', '2.1', '3.6', '2.8', '1.8', '3.8', '0',\n",
       "       '1.6', '9.6', '2.4', '1.7', '1.1', '0.3', '1.5', '0.7', '1.2',\n",
       "       '2.3', '0.5', '1.3', '0.2', '0.6', '1.4', '0.9', '1', '9.7'],\n",
       "      dtype=object)"
      ]
     },
     "execution_count": 11,
     "metadata": {},
     "output_type": "execute_result"
    }
   ],
   "source": [
    "df['user_score'].unique()"
   ]
  },
  {
   "cell_type": "markdown",
   "id": "77a3e80d",
   "metadata": {
    "id": "63378edf"
   },
   "source": [
    "В данных полях присутствуют значения 'unknown', заменим их на пропуск. \n",
    "\n",
    "Значение 'tbd' скорее всего означает о том, что игра еще не вышла на момент выгрузки данных, и рейтинг еще не был составлен."
   ]
  },
  {
   "cell_type": "code",
   "execution_count": 12,
   "id": "dec87979",
   "metadata": {},
   "outputs": [
    {
     "data": {
      "text/html": [
       "<div>\n",
       "<style scoped>\n",
       "    .dataframe tbody tr th:only-of-type {\n",
       "        vertical-align: middle;\n",
       "    }\n",
       "\n",
       "    .dataframe tbody tr th {\n",
       "        vertical-align: top;\n",
       "    }\n",
       "\n",
       "    .dataframe thead th {\n",
       "        text-align: right;\n",
       "    }\n",
       "</style>\n",
       "<table border=\"1\" class=\"dataframe\">\n",
       "  <thead>\n",
       "    <tr style=\"text-align: right;\">\n",
       "      <th></th>\n",
       "      <th>name</th>\n",
       "      <th>platform</th>\n",
       "      <th>year_of_release</th>\n",
       "      <th>genre</th>\n",
       "      <th>na_sales</th>\n",
       "      <th>eu_sales</th>\n",
       "      <th>jp_sales</th>\n",
       "      <th>other_sales</th>\n",
       "      <th>critic_score</th>\n",
       "      <th>user_score</th>\n",
       "      <th>rating</th>\n",
       "    </tr>\n",
       "  </thead>\n",
       "  <tbody>\n",
       "    <tr>\n",
       "      <th>119</th>\n",
       "      <td>Zumba Fitness</td>\n",
       "      <td>Wii</td>\n",
       "      <td>2010</td>\n",
       "      <td>Sports</td>\n",
       "      <td>3.45</td>\n",
       "      <td>2.59</td>\n",
       "      <td>0.0</td>\n",
       "      <td>0.66</td>\n",
       "      <td>NaN</td>\n",
       "      <td>tbd</td>\n",
       "      <td>E</td>\n",
       "    </tr>\n",
       "    <tr>\n",
       "      <th>302</th>\n",
       "      <td>Namco Museum: 50th Anniversary</td>\n",
       "      <td>PS2</td>\n",
       "      <td>2005</td>\n",
       "      <td>Misc</td>\n",
       "      <td>2.08</td>\n",
       "      <td>1.35</td>\n",
       "      <td>0.0</td>\n",
       "      <td>0.54</td>\n",
       "      <td>61.0</td>\n",
       "      <td>tbd</td>\n",
       "      <td>E10+</td>\n",
       "    </tr>\n",
       "    <tr>\n",
       "      <th>522</th>\n",
       "      <td>Zumba Fitness 2</td>\n",
       "      <td>Wii</td>\n",
       "      <td>2011</td>\n",
       "      <td>Sports</td>\n",
       "      <td>1.51</td>\n",
       "      <td>1.03</td>\n",
       "      <td>0.0</td>\n",
       "      <td>0.27</td>\n",
       "      <td>NaN</td>\n",
       "      <td>tbd</td>\n",
       "      <td>T</td>\n",
       "    </tr>\n",
       "    <tr>\n",
       "      <th>647</th>\n",
       "      <td>uDraw Studio</td>\n",
       "      <td>Wii</td>\n",
       "      <td>2010</td>\n",
       "      <td>Misc</td>\n",
       "      <td>1.65</td>\n",
       "      <td>0.57</td>\n",
       "      <td>0.0</td>\n",
       "      <td>0.20</td>\n",
       "      <td>71.0</td>\n",
       "      <td>tbd</td>\n",
       "      <td>E</td>\n",
       "    </tr>\n",
       "    <tr>\n",
       "      <th>659</th>\n",
       "      <td>Frogger's Adventures: Temple of the Frog</td>\n",
       "      <td>GBA</td>\n",
       "      <td>0</td>\n",
       "      <td>Adventure</td>\n",
       "      <td>2.15</td>\n",
       "      <td>0.18</td>\n",
       "      <td>0.0</td>\n",
       "      <td>0.07</td>\n",
       "      <td>73.0</td>\n",
       "      <td>tbd</td>\n",
       "      <td>E</td>\n",
       "    </tr>\n",
       "    <tr>\n",
       "      <th>...</th>\n",
       "      <td>...</td>\n",
       "      <td>...</td>\n",
       "      <td>...</td>\n",
       "      <td>...</td>\n",
       "      <td>...</td>\n",
       "      <td>...</td>\n",
       "      <td>...</td>\n",
       "      <td>...</td>\n",
       "      <td>...</td>\n",
       "      <td>...</td>\n",
       "      <td>...</td>\n",
       "    </tr>\n",
       "    <tr>\n",
       "      <th>16935</th>\n",
       "      <td>Planet Monsters</td>\n",
       "      <td>GBA</td>\n",
       "      <td>2001</td>\n",
       "      <td>Action</td>\n",
       "      <td>0.01</td>\n",
       "      <td>0.0</td>\n",
       "      <td>0.0</td>\n",
       "      <td>0.00</td>\n",
       "      <td>67.0</td>\n",
       "      <td>tbd</td>\n",
       "      <td>E</td>\n",
       "    </tr>\n",
       "    <tr>\n",
       "      <th>16937</th>\n",
       "      <td>Bust-A-Move 3000</td>\n",
       "      <td>GC</td>\n",
       "      <td>2003</td>\n",
       "      <td>Puzzle</td>\n",
       "      <td>0.01</td>\n",
       "      <td>0.0</td>\n",
       "      <td>0.0</td>\n",
       "      <td>0.00</td>\n",
       "      <td>53.0</td>\n",
       "      <td>tbd</td>\n",
       "      <td>E</td>\n",
       "    </tr>\n",
       "    <tr>\n",
       "      <th>16938</th>\n",
       "      <td>Mega Brain Boost</td>\n",
       "      <td>DS</td>\n",
       "      <td>2008</td>\n",
       "      <td>Puzzle</td>\n",
       "      <td>0.01</td>\n",
       "      <td>0.0</td>\n",
       "      <td>0.0</td>\n",
       "      <td>0.00</td>\n",
       "      <td>48.0</td>\n",
       "      <td>tbd</td>\n",
       "      <td>E</td>\n",
       "    </tr>\n",
       "    <tr>\n",
       "      <th>16945</th>\n",
       "      <td>Plushees</td>\n",
       "      <td>DS</td>\n",
       "      <td>2008</td>\n",
       "      <td>Simulation</td>\n",
       "      <td>0.01</td>\n",
       "      <td>0.0</td>\n",
       "      <td>0.0</td>\n",
       "      <td>0.00</td>\n",
       "      <td>NaN</td>\n",
       "      <td>tbd</td>\n",
       "      <td>E</td>\n",
       "    </tr>\n",
       "    <tr>\n",
       "      <th>16947</th>\n",
       "      <td>Men in Black II: Alien Escape</td>\n",
       "      <td>GC</td>\n",
       "      <td>2003</td>\n",
       "      <td>Shooter</td>\n",
       "      <td>0.01</td>\n",
       "      <td>0.0</td>\n",
       "      <td>0.0</td>\n",
       "      <td>0.00</td>\n",
       "      <td>NaN</td>\n",
       "      <td>tbd</td>\n",
       "      <td>T</td>\n",
       "    </tr>\n",
       "  </tbody>\n",
       "</table>\n",
       "<p>2464 rows × 11 columns</p>\n",
       "</div>"
      ],
      "text/plain": [
       "                                           name platform  year_of_release  \\\n",
       "119                               Zumba Fitness      Wii             2010   \n",
       "302              Namco Museum: 50th Anniversary      PS2             2005   \n",
       "522                             Zumba Fitness 2      Wii             2011   \n",
       "647                                uDraw Studio      Wii             2010   \n",
       "659    Frogger's Adventures: Temple of the Frog      GBA                0   \n",
       "...                                         ...      ...              ...   \n",
       "16935                           Planet Monsters      GBA             2001   \n",
       "16937                          Bust-A-Move 3000       GC             2003   \n",
       "16938                          Mega Brain Boost       DS             2008   \n",
       "16945                                  Plushees       DS             2008   \n",
       "16947             Men in Black II: Alien Escape       GC             2003   \n",
       "\n",
       "            genre  na_sales eu_sales jp_sales  other_sales  critic_score  \\\n",
       "119        Sports      3.45     2.59      0.0         0.66           NaN   \n",
       "302          Misc      2.08     1.35      0.0         0.54          61.0   \n",
       "522        Sports      1.51     1.03      0.0         0.27           NaN   \n",
       "647          Misc      1.65     0.57      0.0         0.20          71.0   \n",
       "659     Adventure      2.15     0.18      0.0         0.07          73.0   \n",
       "...           ...       ...      ...      ...          ...           ...   \n",
       "16935      Action      0.01      0.0      0.0         0.00          67.0   \n",
       "16937      Puzzle      0.01      0.0      0.0         0.00          53.0   \n",
       "16938      Puzzle      0.01      0.0      0.0         0.00          48.0   \n",
       "16945  Simulation      0.01      0.0      0.0         0.00           NaN   \n",
       "16947     Shooter      0.01      0.0      0.0         0.00           NaN   \n",
       "\n",
       "      user_score rating  \n",
       "119          tbd      E  \n",
       "302          tbd   E10+  \n",
       "522          tbd      T  \n",
       "647          tbd      E  \n",
       "659          tbd      E  \n",
       "...          ...    ...  \n",
       "16935        tbd      E  \n",
       "16937        tbd      E  \n",
       "16938        tbd      E  \n",
       "16945        tbd      E  \n",
       "16947        tbd      T  \n",
       "\n",
       "[2464 rows x 11 columns]"
      ]
     },
     "execution_count": 12,
     "metadata": {},
     "output_type": "execute_result"
    }
   ],
   "source": [
    "df[df['user_score'] == 'tbd'].head()"
   ]
  },
  {
   "cell_type": "markdown",
   "id": "742b6418",
   "metadata": {},
   "source": [
    "Оказалось, что 'tbd' не зависит от года выпуска, можно считать это значение за 'nan'"
   ]
  },
  {
   "cell_type": "markdown",
   "id": "b5e7b750",
   "metadata": {},
   "source": [
    "- Преобразуем данные столбцы в нужный формат данных"
   ]
  },
  {
   "cell_type": "code",
   "execution_count": 13,
   "id": "5941813a",
   "metadata": {
    "id": "3a26fb26"
   },
   "outputs": [],
   "source": [
    "df['eu_sales'] = pd.to_numeric(df['eu_sales'], errors = 'coerce')\n",
    "df['eu_sales'] = df['eu_sales'].round(2)\n",
    "df['jp_sales'] = pd.to_numeric(df['jp_sales'], errors = 'coerce')\n",
    "df['jp_sales'] = df['jp_sales'].round(2)\n",
    "df['user_score'] = pd.to_numeric(df['user_score'], errors = 'coerce')"
   ]
  },
  {
   "cell_type": "markdown",
   "id": "7b7a8de0",
   "metadata": {},
   "source": [
    "- В конце уменьшим потребление памяти в столбце с годом выпуска"
   ]
  },
  {
   "cell_type": "code",
   "execution_count": 14,
   "id": "98625ec5",
   "metadata": {},
   "outputs": [],
   "source": [
    "df['year_of_release'] = pd.to_numeric(df['year_of_release'], downcast = 'integer')"
   ]
  },
  {
   "cell_type": "markdown",
   "id": "b39893cb",
   "metadata": {
    "id": "b39893cb"
   },
   "source": [
    "### Наличие пропусков в данных\n",
    "\n",
    "- Посчитаем количество пропусков в каждом столбце в абсолютных и относительных значениях.\n"
   ]
  },
  {
   "cell_type": "code",
   "execution_count": 15,
   "id": "0f1c91a8",
   "metadata": {
    "id": "0f1c91a8"
   },
   "outputs": [
    {
     "data": {
      "text/plain": [
       "name                  2\n",
       "platform              0\n",
       "year_of_release       0\n",
       "genre                 2\n",
       "na_sales              0\n",
       "eu_sales              6\n",
       "jp_sales              4\n",
       "other_sales           0\n",
       "critic_score       8714\n",
       "user_score         9268\n",
       "rating             6871\n",
       "dtype: int64"
      ]
     },
     "execution_count": 15,
     "metadata": {},
     "output_type": "execute_result"
    }
   ],
   "source": [
    "df.isna().sum()"
   ]
  },
  {
   "cell_type": "code",
   "execution_count": 16,
   "id": "86cd1cc1",
   "metadata": {
    "id": "86cd1cc1"
   },
   "outputs": [
    {
     "data": {
      "text/plain": [
       "name               0.000118\n",
       "platform           0.000000\n",
       "year_of_release    0.000000\n",
       "genre              0.000118\n",
       "na_sales           0.000000\n",
       "eu_sales           0.000354\n",
       "jp_sales           0.000236\n",
       "other_sales        0.000000\n",
       "critic_score       0.513918\n",
       "user_score         0.546591\n",
       "rating             0.405225\n",
       "dtype: float64"
      ]
     },
     "execution_count": 16,
     "metadata": {},
     "output_type": "execute_result"
    }
   ],
   "source": [
    "df.isna().mean()"
   ]
  },
  {
   "cell_type": "markdown",
   "id": "48f4ed80",
   "metadata": {
    "id": "bd69e642"
   },
   "source": [
    "- В столбце 'name' и 'genre' не должно быть пропусков. Так как их немного, можно исключить их из анализа. \n",
    "- В столбце 'year_of_release' пропуски уже были изменены на индикатор 0.\n",
    "- В столбцах 'eu_sales' и 'jp-sales' пропуски возможны, так как некоторые игры могли не продаваться официально в некоторых частях света. Заменим их на среднее значение в зависимости от платформы и года выхода игры.\n",
    "- В столбцах 'critic_score' и 'user_score' значительно много пропусков (более половины от всего числа строчек), возможно на некоторые игры просто не было достаточного количества рецензий или это ошибка сбора данных. Заменять их на среднее было бы несправедливо, так что оставим их без изменений.\n",
    "- В столбце 'rating' пропуски скорее всего связаны с годом выхода игры -- игра могла выйти раньше, чем приняли регуляцию. Так как формат строчный, можно оставить без изменений."
   ]
  },
  {
   "cell_type": "code",
   "execution_count": 17,
   "id": "154be65d",
   "metadata": {
    "id": "154be65d"
   },
   "outputs": [],
   "source": [
    "df = df.dropna(subset = ['name'])"
   ]
  },
  {
   "cell_type": "code",
   "execution_count": 18,
   "id": "79a6123a",
   "metadata": {},
   "outputs": [
    {
     "data": {
      "text/plain": [
       "0        28.96\n",
       "1         3.58\n",
       "2        12.76\n",
       "3        10.93\n",
       "4         8.89\n",
       "         ...  \n",
       "16951     0.00\n",
       "16952     0.01\n",
       "16953     0.00\n",
       "16954     0.00\n",
       "16955     0.00\n",
       "Length: 16954, dtype: float64"
      ]
     },
     "execution_count": 18,
     "metadata": {},
     "output_type": "execute_result"
    }
   ],
   "source": [
    "def mean_group_eu_sales(row):\n",
    "    if pd.isna(row['eu_sales']):\n",
    "        group = df[(df['platform'] == row['platform']) & \n",
    "                   (df['year_of_release'] == row['year_of_release'])]\n",
    "        return group['eu_sales'].mean()\n",
    "    else:\n",
    "        return row['eu_sales']\n",
    "\n",
    "    \n",
    "df.apply(mean_group_eu_sales, axis=1)"
   ]
  },
  {
   "cell_type": "code",
   "execution_count": 19,
   "id": "5e8c336b",
   "metadata": {},
   "outputs": [
    {
     "data": {
      "text/plain": [
       "0         3.77\n",
       "1         6.81\n",
       "2         3.79\n",
       "3         3.28\n",
       "4        10.22\n",
       "         ...  \n",
       "16951     0.01\n",
       "16952     0.00\n",
       "16953     0.01\n",
       "16954     0.00\n",
       "16955     0.01\n",
       "Length: 16954, dtype: float64"
      ]
     },
     "execution_count": 19,
     "metadata": {},
     "output_type": "execute_result"
    }
   ],
   "source": [
    "def mean_group_jp_sales(row):\n",
    "    if pd.isna(row['jp_sales']):\n",
    "        group = df[(df['platform'] == row['platform']) & \n",
    "                   (df['year_of_release'] == row['year_of_release'])]\n",
    "        return group['jp_sales'].mean()\n",
    "    else:\n",
    "        return row['jp_sales']\n",
    "\n",
    "    \n",
    "df.apply(mean_group_jp_sales, axis=1)"
   ]
  },
  {
   "cell_type": "markdown",
   "id": "c08a06f1",
   "metadata": {},
   "source": [
    "Пропуски не были заполнены, значит схожих игр по платформе и году выпуска не нашлось, оставим 0 вместо пропусков"
   ]
  },
  {
   "cell_type": "code",
   "execution_count": 20,
   "id": "90434e14",
   "metadata": {},
   "outputs": [],
   "source": [
    "df['eu_sales'] = df['eu_sales'].fillna(0)\n",
    "df['jp_sales'] = df['jp_sales'].fillna(0)"
   ]
  },
  {
   "cell_type": "markdown",
   "id": "a63363fd",
   "metadata": {
    "id": "a63363fd"
   },
   "source": [
    "### Явные и неявные дубликаты в данных\n",
    "\n",
    "- Изучим уникальные значения в категориальных данных. Проверим, встречаются ли среди данных неявные дубликаты, связанные с опечатками или разным способом написания.\n",
    "- Проведем нормализацию данных с текстовыми значениями."
   ]
  },
  {
   "cell_type": "code",
   "execution_count": 21,
   "id": "491c9c39",
   "metadata": {
    "id": "491c9c39"
   },
   "outputs": [
    {
     "data": {
      "text/plain": [
       "array(['Wii', 'NES', 'GB', 'DS', 'X360', 'PS3', 'PS2', 'SNES', 'GBA',\n",
       "       'PS4', '3DS', 'N64', 'PS', 'XB', 'PC', '2600', 'PSP', 'XOne',\n",
       "       'WiiU', 'GC', 'GEN', 'DC', 'PSV', 'SAT', 'SCD', 'WS', 'NG', 'TG16',\n",
       "       '3DO', 'GG', 'PCFX'], dtype=object)"
      ]
     },
     "execution_count": 21,
     "metadata": {},
     "output_type": "execute_result"
    }
   ],
   "source": [
    "df['platform'].unique()"
   ]
  },
  {
   "cell_type": "markdown",
   "id": "95327fcc",
   "metadata": {},
   "source": [
    "- Приведем все плафтормы к нижнему регистру"
   ]
  },
  {
   "cell_type": "code",
   "execution_count": 22,
   "id": "14901744",
   "metadata": {},
   "outputs": [],
   "source": [
    "df['platform'] = df['platform'].str.lower()"
   ]
  },
  {
   "cell_type": "code",
   "execution_count": 23,
   "id": "3c63e5db",
   "metadata": {
    "scrolled": true
   },
   "outputs": [
    {
     "data": {
      "text/plain": [
       "array(['Sports', 'Platform', 'Racing', 'Role-Playing', 'Puzzle', 'Misc',\n",
       "       'Shooter', 'Simulation', 'Action', 'Fighting', 'Adventure',\n",
       "       'Strategy', 'MISC', 'ROLE-PLAYING', 'RACING', 'ACTION', 'SHOOTER',\n",
       "       'FIGHTING', 'SPORTS', 'PLATFORM', 'ADVENTURE', 'SIMULATION',\n",
       "       'PUZZLE', 'STRATEGY'], dtype=object)"
      ]
     },
     "execution_count": 23,
     "metadata": {},
     "output_type": "execute_result"
    }
   ],
   "source": [
    "df['genre'].unique()"
   ]
  },
  {
   "cell_type": "markdown",
   "id": "b43c4126",
   "metadata": {},
   "source": [
    "- Приведем все жанры к нижнему регистру"
   ]
  },
  {
   "cell_type": "code",
   "execution_count": 24,
   "id": "f2aa452a",
   "metadata": {},
   "outputs": [],
   "source": [
    "df['genre'] = df['genre'].str.lower()"
   ]
  },
  {
   "cell_type": "code",
   "execution_count": 25,
   "id": "d79f4666",
   "metadata": {},
   "outputs": [
    {
     "data": {
      "text/plain": [
       "array([2006, 1985, 2008, 2009, 1996, 1989, 1984, 2005, 1999, 2007, 2010,\n",
       "       2013, 2004, 1990, 1988, 2002, 2001, 2011, 1998, 2015, 2012, 2014,\n",
       "       1992, 1997, 1993, 1994, 1982, 2016, 2003, 1986, 2000,    0, 1995,\n",
       "       1991, 1981, 1987, 1980, 1983], dtype=int16)"
      ]
     },
     "execution_count": 25,
     "metadata": {},
     "output_type": "execute_result"
    }
   ],
   "source": [
    "df['year_of_release'].unique()"
   ]
  },
  {
   "cell_type": "markdown",
   "id": "7b65d2f2",
   "metadata": {},
   "source": [
    "В столбце с годами дубликатов нет."
   ]
  },
  {
   "cell_type": "code",
   "execution_count": 26,
   "id": "cb50a0d8",
   "metadata": {},
   "outputs": [
    {
     "data": {
      "text/plain": [
       "array(['E', nan, 'M', 'T', 'E10+', 'K-A', 'AO', 'EC', 'RP'], dtype=object)"
      ]
     },
     "execution_count": 26,
     "metadata": {},
     "output_type": "execute_result"
    }
   ],
   "source": [
    "df['rating'].unique()"
   ]
  },
  {
   "cell_type": "markdown",
   "id": "3f925985",
   "metadata": {},
   "source": [
    "- Рейтинги E и K-A одинаковы по смыслу, приравняем к E."
   ]
  },
  {
   "cell_type": "code",
   "execution_count": 27,
   "id": "075f39b4",
   "metadata": {},
   "outputs": [],
   "source": [
    "df['rating'] = df['rating'].str.replace('K-A', 'E')"
   ]
  },
  {
   "cell_type": "markdown",
   "id": "fc3d3db4",
   "metadata": {
    "id": "fc3d3db4"
   },
   "source": [
    "- Проверим наличие явных дубликатов в данных."
   ]
  },
  {
   "cell_type": "code",
   "execution_count": 28,
   "id": "fc5c91b5",
   "metadata": {
    "id": "fc5c91b5"
   },
   "outputs": [
    {
     "data": {
      "text/plain": [
       "241"
      ]
     },
     "execution_count": 28,
     "metadata": {},
     "output_type": "execute_result"
    }
   ],
   "source": [
    "df.duplicated().sum() "
   ]
  },
  {
   "cell_type": "markdown",
   "id": "54616bae",
   "metadata": {
    "id": "54616bae"
   },
   "source": [
    "- Был найден 241 явный дубликат после нормализации данных в столбцах, удалим их."
   ]
  },
  {
   "cell_type": "code",
   "execution_count": 29,
   "id": "73adf530",
   "metadata": {},
   "outputs": [],
   "source": [
    "df = df.drop_duplicates()"
   ]
  },
  {
   "cell_type": "code",
   "execution_count": 30,
   "id": "52f29656",
   "metadata": {},
   "outputs": [
    {
     "name": "stdout",
     "output_type": "stream",
     "text": [
      "Количество удаленных строк в датафрейме после обработки: 243\n",
      "В относительном значении: 0.014331210191082855\n"
     ]
    }
   ],
   "source": [
    "print(f\"Количество удаленных строк в датафрейме после обработки: {16956 - df.shape[0]}\")\n",
    "print(f'В относительном значении: {1 - df.shape[0]/16956}')"
   ]
  },
  {
   "cell_type": "markdown",
   "id": "47613d75",
   "metadata": {
    "id": "47613d75"
   },
   "source": [
    "***После проведения предобработки данных были удалены 2 строки данных с пропусками и 241 явный дубликат.***"
   ]
  },
  {
   "cell_type": "markdown",
   "id": "613f0eb0",
   "metadata": {
    "id": "613f0eb0"
   },
   "source": [
    "---\n",
    "\n",
    "## Фильтрация данных\n",
    "\n",
    "Отберем данные по периоду с 2000 по 2013 гг включительно."
   ]
  },
  {
   "cell_type": "code",
   "execution_count": 31,
   "id": "2344916d",
   "metadata": {
    "id": "2344916d"
   },
   "outputs": [
    {
     "data": {
      "text/html": [
       "<div>\n",
       "<style scoped>\n",
       "    .dataframe tbody tr th:only-of-type {\n",
       "        vertical-align: middle;\n",
       "    }\n",
       "\n",
       "    .dataframe tbody tr th {\n",
       "        vertical-align: top;\n",
       "    }\n",
       "\n",
       "    .dataframe thead th {\n",
       "        text-align: right;\n",
       "    }\n",
       "</style>\n",
       "<table border=\"1\" class=\"dataframe\">\n",
       "  <thead>\n",
       "    <tr style=\"text-align: right;\">\n",
       "      <th></th>\n",
       "      <th>name</th>\n",
       "      <th>platform</th>\n",
       "      <th>year_of_release</th>\n",
       "      <th>genre</th>\n",
       "      <th>na_sales</th>\n",
       "      <th>eu_sales</th>\n",
       "      <th>jp_sales</th>\n",
       "      <th>other_sales</th>\n",
       "      <th>critic_score</th>\n",
       "      <th>user_score</th>\n",
       "      <th>rating</th>\n",
       "    </tr>\n",
       "  </thead>\n",
       "  <tbody>\n",
       "    <tr>\n",
       "      <th>2743</th>\n",
       "      <td>Mega Man X5</td>\n",
       "      <td>ps</td>\n",
       "      <td>2000</td>\n",
       "      <td>platform</td>\n",
       "      <td>0.30</td>\n",
       "      <td>0.21</td>\n",
       "      <td>0.20</td>\n",
       "      <td>0.05</td>\n",
       "      <td>76.0</td>\n",
       "      <td>8.9</td>\n",
       "      <td>E</td>\n",
       "    </tr>\n",
       "    <tr>\n",
       "      <th>6558</th>\n",
       "      <td>Star Trek: Invasion</td>\n",
       "      <td>ps</td>\n",
       "      <td>2000</td>\n",
       "      <td>simulation</td>\n",
       "      <td>0.15</td>\n",
       "      <td>0.10</td>\n",
       "      <td>0.00</td>\n",
       "      <td>0.02</td>\n",
       "      <td>76.0</td>\n",
       "      <td>NaN</td>\n",
       "      <td>E</td>\n",
       "    </tr>\n",
       "    <tr>\n",
       "      <th>11063</th>\n",
       "      <td>ESPN NBA 2Night</td>\n",
       "      <td>ps2</td>\n",
       "      <td>2000</td>\n",
       "      <td>sports</td>\n",
       "      <td>0.05</td>\n",
       "      <td>0.04</td>\n",
       "      <td>0.00</td>\n",
       "      <td>0.01</td>\n",
       "      <td>62.0</td>\n",
       "      <td>NaN</td>\n",
       "      <td>E</td>\n",
       "    </tr>\n",
       "    <tr>\n",
       "      <th>6586</th>\n",
       "      <td>Star Wars Episode I: Battle for Naboo</td>\n",
       "      <td>n64</td>\n",
       "      <td>2000</td>\n",
       "      <td>simulation</td>\n",
       "      <td>0.21</td>\n",
       "      <td>0.05</td>\n",
       "      <td>0.00</td>\n",
       "      <td>0.00</td>\n",
       "      <td>NaN</td>\n",
       "      <td>NaN</td>\n",
       "      <td>NaN</td>\n",
       "    </tr>\n",
       "    <tr>\n",
       "      <th>1726</th>\n",
       "      <td>Mario Tennis</td>\n",
       "      <td>gb</td>\n",
       "      <td>2000</td>\n",
       "      <td>sports</td>\n",
       "      <td>0.50</td>\n",
       "      <td>0.18</td>\n",
       "      <td>0.44</td>\n",
       "      <td>0.06</td>\n",
       "      <td>NaN</td>\n",
       "      <td>NaN</td>\n",
       "      <td>NaN</td>\n",
       "    </tr>\n",
       "    <tr>\n",
       "      <th>...</th>\n",
       "      <td>...</td>\n",
       "      <td>...</td>\n",
       "      <td>...</td>\n",
       "      <td>...</td>\n",
       "      <td>...</td>\n",
       "      <td>...</td>\n",
       "      <td>...</td>\n",
       "      <td>...</td>\n",
       "      <td>...</td>\n",
       "      <td>...</td>\n",
       "      <td>...</td>\n",
       "    </tr>\n",
       "    <tr>\n",
       "      <th>724</th>\n",
       "      <td>Assassin's Creed IV: Black Flag</td>\n",
       "      <td>xone</td>\n",
       "      <td>2013</td>\n",
       "      <td>action</td>\n",
       "      <td>1.48</td>\n",
       "      <td>0.55</td>\n",
       "      <td>0.00</td>\n",
       "      <td>0.21</td>\n",
       "      <td>NaN</td>\n",
       "      <td>7.4</td>\n",
       "      <td>M</td>\n",
       "    </tr>\n",
       "    <tr>\n",
       "      <th>16175</th>\n",
       "      <td>Storm Lover 2nd</td>\n",
       "      <td>psp</td>\n",
       "      <td>2013</td>\n",
       "      <td>misc</td>\n",
       "      <td>0.00</td>\n",
       "      <td>0.00</td>\n",
       "      <td>0.02</td>\n",
       "      <td>0.00</td>\n",
       "      <td>NaN</td>\n",
       "      <td>NaN</td>\n",
       "      <td>NaN</td>\n",
       "    </tr>\n",
       "    <tr>\n",
       "      <th>727</th>\n",
       "      <td>Madden NFL 25</td>\n",
       "      <td>x360</td>\n",
       "      <td>2013</td>\n",
       "      <td>sports</td>\n",
       "      <td>1.98</td>\n",
       "      <td>0.06</td>\n",
       "      <td>0.00</td>\n",
       "      <td>0.19</td>\n",
       "      <td>80.0</td>\n",
       "      <td>5.6</td>\n",
       "      <td>E</td>\n",
       "    </tr>\n",
       "    <tr>\n",
       "      <th>16162</th>\n",
       "      <td>White Album 2: Shiawase no Mukougawa</td>\n",
       "      <td>psv</td>\n",
       "      <td>2013</td>\n",
       "      <td>adventure</td>\n",
       "      <td>0.00</td>\n",
       "      <td>0.00</td>\n",
       "      <td>0.02</td>\n",
       "      <td>0.00</td>\n",
       "      <td>NaN</td>\n",
       "      <td>NaN</td>\n",
       "      <td>NaN</td>\n",
       "    </tr>\n",
       "    <tr>\n",
       "      <th>6777</th>\n",
       "      <td>The Bureau: XCOM Declassified</td>\n",
       "      <td>ps3</td>\n",
       "      <td>2013</td>\n",
       "      <td>shooter</td>\n",
       "      <td>0.08</td>\n",
       "      <td>0.13</td>\n",
       "      <td>0.00</td>\n",
       "      <td>0.04</td>\n",
       "      <td>69.0</td>\n",
       "      <td>6.7</td>\n",
       "      <td>M</td>\n",
       "    </tr>\n",
       "  </tbody>\n",
       "</table>\n",
       "<p>12781 rows × 11 columns</p>\n",
       "</div>"
      ],
      "text/plain": [
       "                                        name platform  year_of_release  \\\n",
       "2743                             Mega Man X5       ps             2000   \n",
       "6558                     Star Trek: Invasion       ps             2000   \n",
       "11063                        ESPN NBA 2Night      ps2             2000   \n",
       "6586   Star Wars Episode I: Battle for Naboo      n64             2000   \n",
       "1726                            Mario Tennis       gb             2000   \n",
       "...                                      ...      ...              ...   \n",
       "724          Assassin's Creed IV: Black Flag     xone             2013   \n",
       "16175                        Storm Lover 2nd      psp             2013   \n",
       "727                            Madden NFL 25     x360             2013   \n",
       "16162   White Album 2: Shiawase no Mukougawa      psv             2013   \n",
       "6777           The Bureau: XCOM Declassified      ps3             2013   \n",
       "\n",
       "            genre  na_sales  eu_sales  jp_sales  other_sales  critic_score  \\\n",
       "2743     platform      0.30      0.21      0.20         0.05          76.0   \n",
       "6558   simulation      0.15      0.10      0.00         0.02          76.0   \n",
       "11063      sports      0.05      0.04      0.00         0.01          62.0   \n",
       "6586   simulation      0.21      0.05      0.00         0.00           NaN   \n",
       "1726       sports      0.50      0.18      0.44         0.06           NaN   \n",
       "...           ...       ...       ...       ...          ...           ...   \n",
       "724        action      1.48      0.55      0.00         0.21           NaN   \n",
       "16175        misc      0.00      0.00      0.02         0.00           NaN   \n",
       "727        sports      1.98      0.06      0.00         0.19          80.0   \n",
       "16162   adventure      0.00      0.00      0.02         0.00           NaN   \n",
       "6777      shooter      0.08      0.13      0.00         0.04          69.0   \n",
       "\n",
       "       user_score rating  \n",
       "2743          8.9      E  \n",
       "6558          NaN      E  \n",
       "11063         NaN      E  \n",
       "6586          NaN    NaN  \n",
       "1726          NaN    NaN  \n",
       "...           ...    ...  \n",
       "724           7.4      M  \n",
       "16175         NaN    NaN  \n",
       "727           5.6      E  \n",
       "16162         NaN    NaN  \n",
       "6777          6.7      M  \n",
       "\n",
       "[12781 rows x 11 columns]"
      ]
     },
     "execution_count": 31,
     "metadata": {},
     "output_type": "execute_result"
    }
   ],
   "source": [
    "df_actual = df[(df['year_of_release'] >= 2000) & (df['year_of_release'] <= 2013)]\n",
    "df_actual = df_actual.sort_values(by = 'year_of_release')\n",
    "df_actual.head()"
   ]
  },
  {
   "cell_type": "markdown",
   "id": "a6f10b01",
   "metadata": {
    "id": "a6f10b01"
   },
   "source": [
    "---\n",
    "\n",
    "## Категоризация данных\n",
    "    \n",
    "Проведем категоризацию данных:\n",
    "- Разделим все игры по оценкам пользователей и выделим такие категории: высокая оценка (от 8 до 10 включительно), средняя оценка (от 3 до 8, не включая правую границу интервала) и низкая оценка (от 0 до 3, не включая правую границу интервала)."
   ]
  },
  {
   "cell_type": "code",
   "execution_count": 32,
   "id": "3db87229",
   "metadata": {
    "id": "3db87229"
   },
   "outputs": [
    {
     "data": {
      "text/html": [
       "<div>\n",
       "<style scoped>\n",
       "    .dataframe tbody tr th:only-of-type {\n",
       "        vertical-align: middle;\n",
       "    }\n",
       "\n",
       "    .dataframe tbody tr th {\n",
       "        vertical-align: top;\n",
       "    }\n",
       "\n",
       "    .dataframe thead th {\n",
       "        text-align: right;\n",
       "    }\n",
       "</style>\n",
       "<table border=\"1\" class=\"dataframe\">\n",
       "  <thead>\n",
       "    <tr style=\"text-align: right;\">\n",
       "      <th></th>\n",
       "      <th>name</th>\n",
       "      <th>platform</th>\n",
       "      <th>year_of_release</th>\n",
       "      <th>genre</th>\n",
       "      <th>na_sales</th>\n",
       "      <th>eu_sales</th>\n",
       "      <th>jp_sales</th>\n",
       "      <th>other_sales</th>\n",
       "      <th>critic_score</th>\n",
       "      <th>user_score</th>\n",
       "      <th>rating</th>\n",
       "      <th>user_score_category</th>\n",
       "    </tr>\n",
       "  </thead>\n",
       "  <tbody>\n",
       "    <tr>\n",
       "      <th>2743</th>\n",
       "      <td>Mega Man X5</td>\n",
       "      <td>ps</td>\n",
       "      <td>2000</td>\n",
       "      <td>platform</td>\n",
       "      <td>0.30</td>\n",
       "      <td>0.21</td>\n",
       "      <td>0.20</td>\n",
       "      <td>0.05</td>\n",
       "      <td>76.0</td>\n",
       "      <td>8.9</td>\n",
       "      <td>E</td>\n",
       "      <td>высокая оценка</td>\n",
       "    </tr>\n",
       "    <tr>\n",
       "      <th>6558</th>\n",
       "      <td>Star Trek: Invasion</td>\n",
       "      <td>ps</td>\n",
       "      <td>2000</td>\n",
       "      <td>simulation</td>\n",
       "      <td>0.15</td>\n",
       "      <td>0.10</td>\n",
       "      <td>0.00</td>\n",
       "      <td>0.02</td>\n",
       "      <td>76.0</td>\n",
       "      <td>NaN</td>\n",
       "      <td>E</td>\n",
       "      <td>NaN</td>\n",
       "    </tr>\n",
       "    <tr>\n",
       "      <th>11063</th>\n",
       "      <td>ESPN NBA 2Night</td>\n",
       "      <td>ps2</td>\n",
       "      <td>2000</td>\n",
       "      <td>sports</td>\n",
       "      <td>0.05</td>\n",
       "      <td>0.04</td>\n",
       "      <td>0.00</td>\n",
       "      <td>0.01</td>\n",
       "      <td>62.0</td>\n",
       "      <td>NaN</td>\n",
       "      <td>E</td>\n",
       "      <td>NaN</td>\n",
       "    </tr>\n",
       "    <tr>\n",
       "      <th>6586</th>\n",
       "      <td>Star Wars Episode I: Battle for Naboo</td>\n",
       "      <td>n64</td>\n",
       "      <td>2000</td>\n",
       "      <td>simulation</td>\n",
       "      <td>0.21</td>\n",
       "      <td>0.05</td>\n",
       "      <td>0.00</td>\n",
       "      <td>0.00</td>\n",
       "      <td>NaN</td>\n",
       "      <td>NaN</td>\n",
       "      <td>NaN</td>\n",
       "      <td>NaN</td>\n",
       "    </tr>\n",
       "    <tr>\n",
       "      <th>1726</th>\n",
       "      <td>Mario Tennis</td>\n",
       "      <td>gb</td>\n",
       "      <td>2000</td>\n",
       "      <td>sports</td>\n",
       "      <td>0.50</td>\n",
       "      <td>0.18</td>\n",
       "      <td>0.44</td>\n",
       "      <td>0.06</td>\n",
       "      <td>NaN</td>\n",
       "      <td>NaN</td>\n",
       "      <td>NaN</td>\n",
       "      <td>NaN</td>\n",
       "    </tr>\n",
       "    <tr>\n",
       "      <th>...</th>\n",
       "      <td>...</td>\n",
       "      <td>...</td>\n",
       "      <td>...</td>\n",
       "      <td>...</td>\n",
       "      <td>...</td>\n",
       "      <td>...</td>\n",
       "      <td>...</td>\n",
       "      <td>...</td>\n",
       "      <td>...</td>\n",
       "      <td>...</td>\n",
       "      <td>...</td>\n",
       "      <td>...</td>\n",
       "    </tr>\n",
       "    <tr>\n",
       "      <th>724</th>\n",
       "      <td>Assassin's Creed IV: Black Flag</td>\n",
       "      <td>xone</td>\n",
       "      <td>2013</td>\n",
       "      <td>action</td>\n",
       "      <td>1.48</td>\n",
       "      <td>0.55</td>\n",
       "      <td>0.00</td>\n",
       "      <td>0.21</td>\n",
       "      <td>NaN</td>\n",
       "      <td>7.4</td>\n",
       "      <td>M</td>\n",
       "      <td>средняя оценка</td>\n",
       "    </tr>\n",
       "    <tr>\n",
       "      <th>16175</th>\n",
       "      <td>Storm Lover 2nd</td>\n",
       "      <td>psp</td>\n",
       "      <td>2013</td>\n",
       "      <td>misc</td>\n",
       "      <td>0.00</td>\n",
       "      <td>0.00</td>\n",
       "      <td>0.02</td>\n",
       "      <td>0.00</td>\n",
       "      <td>NaN</td>\n",
       "      <td>NaN</td>\n",
       "      <td>NaN</td>\n",
       "      <td>NaN</td>\n",
       "    </tr>\n",
       "    <tr>\n",
       "      <th>727</th>\n",
       "      <td>Madden NFL 25</td>\n",
       "      <td>x360</td>\n",
       "      <td>2013</td>\n",
       "      <td>sports</td>\n",
       "      <td>1.98</td>\n",
       "      <td>0.06</td>\n",
       "      <td>0.00</td>\n",
       "      <td>0.19</td>\n",
       "      <td>80.0</td>\n",
       "      <td>5.6</td>\n",
       "      <td>E</td>\n",
       "      <td>средняя оценка</td>\n",
       "    </tr>\n",
       "    <tr>\n",
       "      <th>16162</th>\n",
       "      <td>White Album 2: Shiawase no Mukougawa</td>\n",
       "      <td>psv</td>\n",
       "      <td>2013</td>\n",
       "      <td>adventure</td>\n",
       "      <td>0.00</td>\n",
       "      <td>0.00</td>\n",
       "      <td>0.02</td>\n",
       "      <td>0.00</td>\n",
       "      <td>NaN</td>\n",
       "      <td>NaN</td>\n",
       "      <td>NaN</td>\n",
       "      <td>NaN</td>\n",
       "    </tr>\n",
       "    <tr>\n",
       "      <th>6777</th>\n",
       "      <td>The Bureau: XCOM Declassified</td>\n",
       "      <td>ps3</td>\n",
       "      <td>2013</td>\n",
       "      <td>shooter</td>\n",
       "      <td>0.08</td>\n",
       "      <td>0.13</td>\n",
       "      <td>0.00</td>\n",
       "      <td>0.04</td>\n",
       "      <td>69.0</td>\n",
       "      <td>6.7</td>\n",
       "      <td>M</td>\n",
       "      <td>средняя оценка</td>\n",
       "    </tr>\n",
       "  </tbody>\n",
       "</table>\n",
       "<p>12781 rows × 12 columns</p>\n",
       "</div>"
      ],
      "text/plain": [
       "                                        name platform  year_of_release  \\\n",
       "2743                             Mega Man X5       ps             2000   \n",
       "6558                     Star Trek: Invasion       ps             2000   \n",
       "11063                        ESPN NBA 2Night      ps2             2000   \n",
       "6586   Star Wars Episode I: Battle for Naboo      n64             2000   \n",
       "1726                            Mario Tennis       gb             2000   \n",
       "...                                      ...      ...              ...   \n",
       "724          Assassin's Creed IV: Black Flag     xone             2013   \n",
       "16175                        Storm Lover 2nd      psp             2013   \n",
       "727                            Madden NFL 25     x360             2013   \n",
       "16162   White Album 2: Shiawase no Mukougawa      psv             2013   \n",
       "6777           The Bureau: XCOM Declassified      ps3             2013   \n",
       "\n",
       "            genre  na_sales  eu_sales  jp_sales  other_sales  critic_score  \\\n",
       "2743     platform      0.30      0.21      0.20         0.05          76.0   \n",
       "6558   simulation      0.15      0.10      0.00         0.02          76.0   \n",
       "11063      sports      0.05      0.04      0.00         0.01          62.0   \n",
       "6586   simulation      0.21      0.05      0.00         0.00           NaN   \n",
       "1726       sports      0.50      0.18      0.44         0.06           NaN   \n",
       "...           ...       ...       ...       ...          ...           ...   \n",
       "724        action      1.48      0.55      0.00         0.21           NaN   \n",
       "16175        misc      0.00      0.00      0.02         0.00           NaN   \n",
       "727        sports      1.98      0.06      0.00         0.19          80.0   \n",
       "16162   adventure      0.00      0.00      0.02         0.00           NaN   \n",
       "6777      shooter      0.08      0.13      0.00         0.04          69.0   \n",
       "\n",
       "       user_score rating user_score_category  \n",
       "2743          8.9      E      высокая оценка  \n",
       "6558          NaN      E                 NaN  \n",
       "11063         NaN      E                 NaN  \n",
       "6586          NaN    NaN                 NaN  \n",
       "1726          NaN    NaN                 NaN  \n",
       "...           ...    ...                 ...  \n",
       "724           7.4      M      средняя оценка  \n",
       "16175         NaN    NaN                 NaN  \n",
       "727           5.6      E      средняя оценка  \n",
       "16162         NaN    NaN                 NaN  \n",
       "6777          6.7      M      средняя оценка  \n",
       "\n",
       "[12781 rows x 12 columns]"
      ]
     },
     "execution_count": 32,
     "metadata": {},
     "output_type": "execute_result"
    }
   ],
   "source": [
    "df_actual['user_score_category'] = pd.cut(df_actual['user_score'], bins = [0, 3, 8, 10.01], right = False, labels = ['низкая оценка', 'средняя оценка', 'высокая оценка'])\n",
    "df_actual.head()"
   ]
  },
  {
   "cell_type": "markdown",
   "id": "f8f34b40",
   "metadata": {
    "id": "f8f34b40"
   },
   "source": [
    "- Разделим все игры по оценкам критиков и выделим такие категории: высокая оценка (от 80 до 100 включительно), средняя оценка (от 30 до 80, не включая правую границу интервала) и низкая оценка (от 0 до 30, не включая правую границу интервала)."
   ]
  },
  {
   "cell_type": "code",
   "execution_count": 33,
   "id": "e3f7acb0",
   "metadata": {
    "id": "e3f7acb0"
   },
   "outputs": [
    {
     "data": {
      "text/html": [
       "<div>\n",
       "<style scoped>\n",
       "    .dataframe tbody tr th:only-of-type {\n",
       "        vertical-align: middle;\n",
       "    }\n",
       "\n",
       "    .dataframe tbody tr th {\n",
       "        vertical-align: top;\n",
       "    }\n",
       "\n",
       "    .dataframe thead th {\n",
       "        text-align: right;\n",
       "    }\n",
       "</style>\n",
       "<table border=\"1\" class=\"dataframe\">\n",
       "  <thead>\n",
       "    <tr style=\"text-align: right;\">\n",
       "      <th></th>\n",
       "      <th>name</th>\n",
       "      <th>platform</th>\n",
       "      <th>year_of_release</th>\n",
       "      <th>genre</th>\n",
       "      <th>na_sales</th>\n",
       "      <th>eu_sales</th>\n",
       "      <th>jp_sales</th>\n",
       "      <th>other_sales</th>\n",
       "      <th>critic_score</th>\n",
       "      <th>user_score</th>\n",
       "      <th>rating</th>\n",
       "      <th>user_score_category</th>\n",
       "      <th>critic_score_category</th>\n",
       "    </tr>\n",
       "  </thead>\n",
       "  <tbody>\n",
       "    <tr>\n",
       "      <th>2743</th>\n",
       "      <td>Mega Man X5</td>\n",
       "      <td>ps</td>\n",
       "      <td>2000</td>\n",
       "      <td>platform</td>\n",
       "      <td>0.30</td>\n",
       "      <td>0.21</td>\n",
       "      <td>0.20</td>\n",
       "      <td>0.05</td>\n",
       "      <td>76.0</td>\n",
       "      <td>8.9</td>\n",
       "      <td>E</td>\n",
       "      <td>высокая оценка</td>\n",
       "      <td>средняя оценка</td>\n",
       "    </tr>\n",
       "    <tr>\n",
       "      <th>6558</th>\n",
       "      <td>Star Trek: Invasion</td>\n",
       "      <td>ps</td>\n",
       "      <td>2000</td>\n",
       "      <td>simulation</td>\n",
       "      <td>0.15</td>\n",
       "      <td>0.10</td>\n",
       "      <td>0.00</td>\n",
       "      <td>0.02</td>\n",
       "      <td>76.0</td>\n",
       "      <td>NaN</td>\n",
       "      <td>E</td>\n",
       "      <td>NaN</td>\n",
       "      <td>средняя оценка</td>\n",
       "    </tr>\n",
       "    <tr>\n",
       "      <th>11063</th>\n",
       "      <td>ESPN NBA 2Night</td>\n",
       "      <td>ps2</td>\n",
       "      <td>2000</td>\n",
       "      <td>sports</td>\n",
       "      <td>0.05</td>\n",
       "      <td>0.04</td>\n",
       "      <td>0.00</td>\n",
       "      <td>0.01</td>\n",
       "      <td>62.0</td>\n",
       "      <td>NaN</td>\n",
       "      <td>E</td>\n",
       "      <td>NaN</td>\n",
       "      <td>средняя оценка</td>\n",
       "    </tr>\n",
       "    <tr>\n",
       "      <th>6586</th>\n",
       "      <td>Star Wars Episode I: Battle for Naboo</td>\n",
       "      <td>n64</td>\n",
       "      <td>2000</td>\n",
       "      <td>simulation</td>\n",
       "      <td>0.21</td>\n",
       "      <td>0.05</td>\n",
       "      <td>0.00</td>\n",
       "      <td>0.00</td>\n",
       "      <td>NaN</td>\n",
       "      <td>NaN</td>\n",
       "      <td>NaN</td>\n",
       "      <td>NaN</td>\n",
       "      <td>NaN</td>\n",
       "    </tr>\n",
       "    <tr>\n",
       "      <th>1726</th>\n",
       "      <td>Mario Tennis</td>\n",
       "      <td>gb</td>\n",
       "      <td>2000</td>\n",
       "      <td>sports</td>\n",
       "      <td>0.50</td>\n",
       "      <td>0.18</td>\n",
       "      <td>0.44</td>\n",
       "      <td>0.06</td>\n",
       "      <td>NaN</td>\n",
       "      <td>NaN</td>\n",
       "      <td>NaN</td>\n",
       "      <td>NaN</td>\n",
       "      <td>NaN</td>\n",
       "    </tr>\n",
       "    <tr>\n",
       "      <th>...</th>\n",
       "      <td>...</td>\n",
       "      <td>...</td>\n",
       "      <td>...</td>\n",
       "      <td>...</td>\n",
       "      <td>...</td>\n",
       "      <td>...</td>\n",
       "      <td>...</td>\n",
       "      <td>...</td>\n",
       "      <td>...</td>\n",
       "      <td>...</td>\n",
       "      <td>...</td>\n",
       "      <td>...</td>\n",
       "      <td>...</td>\n",
       "    </tr>\n",
       "    <tr>\n",
       "      <th>724</th>\n",
       "      <td>Assassin's Creed IV: Black Flag</td>\n",
       "      <td>xone</td>\n",
       "      <td>2013</td>\n",
       "      <td>action</td>\n",
       "      <td>1.48</td>\n",
       "      <td>0.55</td>\n",
       "      <td>0.00</td>\n",
       "      <td>0.21</td>\n",
       "      <td>NaN</td>\n",
       "      <td>7.4</td>\n",
       "      <td>M</td>\n",
       "      <td>средняя оценка</td>\n",
       "      <td>NaN</td>\n",
       "    </tr>\n",
       "    <tr>\n",
       "      <th>16175</th>\n",
       "      <td>Storm Lover 2nd</td>\n",
       "      <td>psp</td>\n",
       "      <td>2013</td>\n",
       "      <td>misc</td>\n",
       "      <td>0.00</td>\n",
       "      <td>0.00</td>\n",
       "      <td>0.02</td>\n",
       "      <td>0.00</td>\n",
       "      <td>NaN</td>\n",
       "      <td>NaN</td>\n",
       "      <td>NaN</td>\n",
       "      <td>NaN</td>\n",
       "      <td>NaN</td>\n",
       "    </tr>\n",
       "    <tr>\n",
       "      <th>727</th>\n",
       "      <td>Madden NFL 25</td>\n",
       "      <td>x360</td>\n",
       "      <td>2013</td>\n",
       "      <td>sports</td>\n",
       "      <td>1.98</td>\n",
       "      <td>0.06</td>\n",
       "      <td>0.00</td>\n",
       "      <td>0.19</td>\n",
       "      <td>80.0</td>\n",
       "      <td>5.6</td>\n",
       "      <td>E</td>\n",
       "      <td>средняя оценка</td>\n",
       "      <td>высокая оценка</td>\n",
       "    </tr>\n",
       "    <tr>\n",
       "      <th>16162</th>\n",
       "      <td>White Album 2: Shiawase no Mukougawa</td>\n",
       "      <td>psv</td>\n",
       "      <td>2013</td>\n",
       "      <td>adventure</td>\n",
       "      <td>0.00</td>\n",
       "      <td>0.00</td>\n",
       "      <td>0.02</td>\n",
       "      <td>0.00</td>\n",
       "      <td>NaN</td>\n",
       "      <td>NaN</td>\n",
       "      <td>NaN</td>\n",
       "      <td>NaN</td>\n",
       "      <td>NaN</td>\n",
       "    </tr>\n",
       "    <tr>\n",
       "      <th>6777</th>\n",
       "      <td>The Bureau: XCOM Declassified</td>\n",
       "      <td>ps3</td>\n",
       "      <td>2013</td>\n",
       "      <td>shooter</td>\n",
       "      <td>0.08</td>\n",
       "      <td>0.13</td>\n",
       "      <td>0.00</td>\n",
       "      <td>0.04</td>\n",
       "      <td>69.0</td>\n",
       "      <td>6.7</td>\n",
       "      <td>M</td>\n",
       "      <td>средняя оценка</td>\n",
       "      <td>средняя оценка</td>\n",
       "    </tr>\n",
       "  </tbody>\n",
       "</table>\n",
       "<p>12781 rows × 13 columns</p>\n",
       "</div>"
      ],
      "text/plain": [
       "                                        name platform  year_of_release  \\\n",
       "2743                             Mega Man X5       ps             2000   \n",
       "6558                     Star Trek: Invasion       ps             2000   \n",
       "11063                        ESPN NBA 2Night      ps2             2000   \n",
       "6586   Star Wars Episode I: Battle for Naboo      n64             2000   \n",
       "1726                            Mario Tennis       gb             2000   \n",
       "...                                      ...      ...              ...   \n",
       "724          Assassin's Creed IV: Black Flag     xone             2013   \n",
       "16175                        Storm Lover 2nd      psp             2013   \n",
       "727                            Madden NFL 25     x360             2013   \n",
       "16162   White Album 2: Shiawase no Mukougawa      psv             2013   \n",
       "6777           The Bureau: XCOM Declassified      ps3             2013   \n",
       "\n",
       "            genre  na_sales  eu_sales  jp_sales  other_sales  critic_score  \\\n",
       "2743     platform      0.30      0.21      0.20         0.05          76.0   \n",
       "6558   simulation      0.15      0.10      0.00         0.02          76.0   \n",
       "11063      sports      0.05      0.04      0.00         0.01          62.0   \n",
       "6586   simulation      0.21      0.05      0.00         0.00           NaN   \n",
       "1726       sports      0.50      0.18      0.44         0.06           NaN   \n",
       "...           ...       ...       ...       ...          ...           ...   \n",
       "724        action      1.48      0.55      0.00         0.21           NaN   \n",
       "16175        misc      0.00      0.00      0.02         0.00           NaN   \n",
       "727        sports      1.98      0.06      0.00         0.19          80.0   \n",
       "16162   adventure      0.00      0.00      0.02         0.00           NaN   \n",
       "6777      shooter      0.08      0.13      0.00         0.04          69.0   \n",
       "\n",
       "       user_score rating user_score_category critic_score_category  \n",
       "2743          8.9      E      высокая оценка        средняя оценка  \n",
       "6558          NaN      E                 NaN        средняя оценка  \n",
       "11063         NaN      E                 NaN        средняя оценка  \n",
       "6586          NaN    NaN                 NaN                   NaN  \n",
       "1726          NaN    NaN                 NaN                   NaN  \n",
       "...           ...    ...                 ...                   ...  \n",
       "724           7.4      M      средняя оценка                   NaN  \n",
       "16175         NaN    NaN                 NaN                   NaN  \n",
       "727           5.6      E      средняя оценка        высокая оценка  \n",
       "16162         NaN    NaN                 NaN                   NaN  \n",
       "6777          6.7      M      средняя оценка        средняя оценка  \n",
       "\n",
       "[12781 rows x 13 columns]"
      ]
     },
     "execution_count": 33,
     "metadata": {},
     "output_type": "execute_result"
    }
   ],
   "source": [
    "df_actual['critic_score_category'] = pd.cut(df_actual['critic_score'], bins = [0, 30, 80, 100.01], right = False, labels = ['низкая оценка', 'средняя оценка', 'высокая оценка'])\n",
    "df_actual.head()"
   ]
  },
  {
   "cell_type": "markdown",
   "id": "olkTlTlAUDR9",
   "metadata": {
    "id": "olkTlTlAUDR9"
   },
   "source": [
    "- После категоризации данных проверим результат: сгруппируем данные по выделенным категориям и посчитаем количество игр в каждой категории."
   ]
  },
  {
   "cell_type": "code",
   "execution_count": 34,
   "id": "HW0Nsp-4UMSL",
   "metadata": {
    "id": "HW0Nsp-4UMSL"
   },
   "outputs": [
    {
     "name": "stdout",
     "output_type": "stream",
     "text": [
      "Оценка пользователей user_score_category\n",
      "низкая оценка      116\n",
      "средняя оценка    4081\n",
      "высокая оценка    2286\n",
      "Name: name, dtype: int64\n",
      "Оценка критиков critic_score_category\n",
      "низкая оценка       55\n",
      "средняя оценка    5422\n",
      "высокая оценка    1692\n",
      "Name: name, dtype: int64\n"
     ]
    }
   ],
   "source": [
    "grouped_user_df = df_actual.groupby('user_score_category')['name'].count()\n",
    "grouped_critic_df = df_actual.groupby( 'critic_score_category')['name'].count()\n",
    "print(f'Оценка пользователей {grouped_user_df}')\n",
    "print(f'Оценка критиков {grouped_critic_df}')"
   ]
  },
  {
   "cell_type": "markdown",
   "id": "6a98444c",
   "metadata": {
    "id": "6a98444c"
   },
   "source": [
    "- Выделим топ-7 платформ по количеству игр, выпущенных за весь актуальный период."
   ]
  },
  {
   "cell_type": "code",
   "execution_count": 35,
   "id": "003caa2c",
   "metadata": {
    "id": "003caa2c"
   },
   "outputs": [
    {
     "data": {
      "text/plain": [
       "platform\n",
       "ps2     2127\n",
       "ds      2120\n",
       "wii     1275\n",
       "psp     1180\n",
       "x360    1121\n",
       "ps3     1087\n",
       "gba      811\n",
       "Name: name, dtype: int64"
      ]
     },
     "execution_count": 35,
     "metadata": {},
     "output_type": "execute_result"
    }
   ],
   "source": [
    "top7_platform = df_actual.groupby('platform')['name'].count().sort_values(ascending=False).head(7)\n",
    "top7_platform"
   ]
  },
  {
   "cell_type": "markdown",
   "id": "c0158881",
   "metadata": {
    "id": "c0158881"
   },
   "source": [
    "---\n",
    "\n",
    "## Итоговый вывод"
   ]
  },
  {
   "cell_type": "markdown",
   "id": "82b707ec",
   "metadata": {
    "id": "20175f5b"
   },
   "source": [
    "# В ходе проекта были нормализованы, отфильтрованы и категоризированы исходя из цели входные данные.\n",
    "***Получены следующая информация по развитию игровой индустрии в начале 21 века (2000-2013 гг):***\n",
    "- Количество игр по оценке пользователей: с низкой -- 116, средней -- 4081, высокой -- 2286).\n",
    "- Количество игр по оценке критиков: с низкой -- 55, средней -- 5422, высокой -- 1692).\n",
    "- Топ 7 платформ по количеству выпущенных игр: ps2 (2127), ds (2120), wii (1275), psp (1180), x360 (1121), ps3 (1087), gba (811)."
   ]
  }
 ],
 "metadata": {
  "ExecuteTimeLog": [
   {
    "duration": 557,
    "start_time": "2025-08-22T09:38:00.878Z"
   },
   {
    "duration": 37,
    "start_time": "2025-08-22T09:39:03.200Z"
   },
   {
    "duration": 11,
    "start_time": "2025-08-22T13:04:55.683Z"
   },
   {
    "duration": 16,
    "start_time": "2025-08-22T13:06:03.482Z"
   },
   {
    "duration": 18,
    "start_time": "2025-08-22T13:06:05.949Z"
   },
   {
    "duration": 16,
    "start_time": "2025-08-22T13:25:36.743Z"
   },
   {
    "duration": 15,
    "start_time": "2025-08-22T13:25:41.607Z"
   },
   {
    "duration": 16,
    "start_time": "2025-08-22T13:25:53.024Z"
   },
   {
    "duration": 14,
    "start_time": "2025-08-22T13:26:17.852Z"
   },
   {
    "duration": 60,
    "start_time": "2025-08-22T14:33:53.597Z"
   },
   {
    "duration": 4,
    "start_time": "2025-08-22T14:34:01.939Z"
   },
   {
    "duration": 3,
    "start_time": "2025-08-22T14:39:36.743Z"
   },
   {
    "duration": 5,
    "start_time": "2025-08-22T14:39:40.121Z"
   },
   {
    "duration": 4,
    "start_time": "2025-08-22T14:39:54.274Z"
   },
   {
    "duration": 4,
    "start_time": "2025-08-22T14:40:31.953Z"
   },
   {
    "duration": 3,
    "start_time": "2025-08-22T14:40:33.784Z"
   },
   {
    "duration": 15,
    "start_time": "2025-08-22T15:28:00.520Z"
   },
   {
    "duration": 55,
    "start_time": "2025-08-23T15:35:52.812Z"
   },
   {
    "duration": 627,
    "start_time": "2025-08-23T15:36:14.754Z"
   },
   {
    "duration": 22,
    "start_time": "2025-08-23T15:36:15.383Z"
   },
   {
    "duration": 27,
    "start_time": "2025-08-23T15:36:15.407Z"
   },
   {
    "duration": 30,
    "start_time": "2025-08-23T15:36:15.437Z"
   },
   {
    "duration": 15,
    "start_time": "2025-08-23T15:36:15.470Z"
   },
   {
    "duration": 9,
    "start_time": "2025-08-23T15:36:15.487Z"
   },
   {
    "duration": 50,
    "start_time": "2025-08-23T15:36:15.499Z"
   },
   {
    "duration": 10,
    "start_time": "2025-08-23T15:36:21.051Z"
   },
   {
    "duration": 4,
    "start_time": "2025-08-23T15:36:34.131Z"
   },
   {
    "duration": 21,
    "start_time": "2025-08-23T15:36:41.152Z"
   },
   {
    "duration": 17,
    "start_time": "2025-08-23T15:36:45.939Z"
   },
   {
    "duration": 16,
    "start_time": "2025-08-23T15:57:14.065Z"
   },
   {
    "duration": 5,
    "start_time": "2025-08-23T15:58:17.788Z"
   },
   {
    "duration": 19,
    "start_time": "2025-08-23T15:58:22.483Z"
   },
   {
    "duration": 6,
    "start_time": "2025-08-23T17:04:02.399Z"
   },
   {
    "duration": 14,
    "start_time": "2025-08-23T17:07:21.641Z"
   },
   {
    "duration": 5,
    "start_time": "2025-08-23T17:14:03.542Z"
   },
   {
    "duration": 15,
    "start_time": "2025-08-23T17:14:09.544Z"
   },
   {
    "duration": 10,
    "start_time": "2025-08-23T17:16:22.692Z"
   },
   {
    "duration": 28,
    "start_time": "2025-08-23T17:19:48.153Z"
   },
   {
    "duration": 11,
    "start_time": "2025-08-23T17:21:19.688Z"
   },
   {
    "duration": 5,
    "start_time": "2025-08-23T17:21:24.441Z"
   },
   {
    "duration": 10,
    "start_time": "2025-08-23T17:23:19.799Z"
   },
   {
    "duration": 1510,
    "start_time": "2025-08-23T17:23:46.161Z"
   },
   {
    "duration": 7,
    "start_time": "2025-08-23T17:23:55.925Z"
   },
   {
    "duration": 1418,
    "start_time": "2025-08-23T17:24:25.662Z"
   },
   {
    "duration": 9,
    "start_time": "2025-08-23T17:24:34.656Z"
   },
   {
    "duration": 1446,
    "start_time": "2025-08-23T18:02:26.556Z"
   },
   {
    "duration": 1366,
    "start_time": "2025-08-23T18:02:48.120Z"
   },
   {
    "duration": 11,
    "start_time": "2025-08-23T18:02:56.941Z"
   },
   {
    "duration": 28,
    "start_time": "2025-08-23T18:03:23.526Z"
   },
   {
    "duration": 18,
    "start_time": "2025-08-23T18:37:22.193Z"
   },
   {
    "duration": 6,
    "start_time": "2025-08-23T18:41:49.518Z"
   },
   {
    "duration": 6,
    "start_time": "2025-08-23T18:45:00.466Z"
   },
   {
    "duration": 6,
    "start_time": "2025-08-23T18:45:21.199Z"
   },
   {
    "duration": 1466,
    "start_time": "2025-08-23T18:48:08.724Z"
   },
   {
    "duration": 1491,
    "start_time": "2025-08-23T18:48:33.902Z"
   },
   {
    "duration": 25,
    "start_time": "2025-08-23T18:51:22.373Z"
   },
   {
    "duration": 32,
    "start_time": "2025-08-23T18:53:56.957Z"
   },
   {
    "duration": 820,
    "start_time": "2025-08-23T19:00:56.430Z"
   },
   {
    "duration": 7,
    "start_time": "2025-08-23T19:01:51.790Z"
   },
   {
    "duration": 6,
    "start_time": "2025-08-23T19:01:56.135Z"
   },
   {
    "duration": 29,
    "start_time": "2025-08-23T19:02:05.880Z"
   },
   {
    "duration": 6,
    "start_time": "2025-08-23T19:02:12.139Z"
   },
   {
    "duration": 37,
    "start_time": "2025-08-23T19:03:22.577Z"
   },
   {
    "duration": 11,
    "start_time": "2025-08-23T19:03:30.924Z"
   },
   {
    "duration": 8,
    "start_time": "2025-08-23T19:03:36.565Z"
   },
   {
    "duration": 8,
    "start_time": "2025-08-23T19:05:55.002Z"
   },
   {
    "duration": 10,
    "start_time": "2025-08-23T19:06:13.474Z"
   },
   {
    "duration": 15,
    "start_time": "2025-08-23T19:07:08.652Z"
   },
   {
    "duration": 8,
    "start_time": "2025-08-23T19:10:28.286Z"
   },
   {
    "duration": 16,
    "start_time": "2025-08-23T19:10:37.502Z"
   },
   {
    "duration": 8,
    "start_time": "2025-08-23T19:10:58.714Z"
   },
   {
    "duration": 8,
    "start_time": "2025-08-23T19:11:49.889Z"
   },
   {
    "duration": 17,
    "start_time": "2025-08-23T19:11:55.185Z"
   },
   {
    "duration": 11,
    "start_time": "2025-08-23T19:12:19.515Z"
   },
   {
    "duration": 23,
    "start_time": "2025-08-23T19:12:24.088Z"
   },
   {
    "duration": 10,
    "start_time": "2025-08-23T19:12:28.026Z"
   },
   {
    "duration": 25,
    "start_time": "2025-08-23T19:12:50.179Z"
   },
   {
    "duration": 557,
    "start_time": "2025-08-23T19:13:20.994Z"
   },
   {
    "duration": 21,
    "start_time": "2025-08-23T19:13:21.554Z"
   },
   {
    "duration": 26,
    "start_time": "2025-08-23T19:13:21.577Z"
   },
   {
    "duration": 5,
    "start_time": "2025-08-23T19:13:21.606Z"
   },
   {
    "duration": 4,
    "start_time": "2025-08-23T19:13:21.615Z"
   },
   {
    "duration": 6,
    "start_time": "2025-08-23T19:13:21.661Z"
   },
   {
    "duration": 17,
    "start_time": "2025-08-23T19:13:21.670Z"
   },
   {
    "duration": 58,
    "start_time": "2025-08-23T19:13:21.690Z"
   },
   {
    "duration": 7,
    "start_time": "2025-08-23T19:13:21.751Z"
   },
   {
    "duration": 8,
    "start_time": "2025-08-23T19:13:21.760Z"
   },
   {
    "duration": 29,
    "start_time": "2025-08-23T19:13:21.771Z"
   },
   {
    "duration": 46,
    "start_time": "2025-08-23T19:13:21.802Z"
   },
   {
    "duration": 18,
    "start_time": "2025-08-23T19:13:34.674Z"
   },
   {
    "duration": 15,
    "start_time": "2025-08-23T19:13:38.547Z"
   },
   {
    "duration": 69,
    "start_time": "2025-08-23T19:15:34.866Z"
   },
   {
    "duration": 12,
    "start_time": "2025-08-23T19:15:55.107Z"
   },
   {
    "duration": 7,
    "start_time": "2025-08-23T19:16:03.927Z"
   },
   {
    "duration": 20,
    "start_time": "2025-08-23T19:16:12.130Z"
   },
   {
    "duration": 23,
    "start_time": "2025-08-23T19:49:46.221Z"
   },
   {
    "duration": 11,
    "start_time": "2025-08-23T19:49:57.581Z"
   },
   {
    "duration": 11,
    "start_time": "2025-08-23T19:50:14.577Z"
   },
   {
    "duration": 37,
    "start_time": "2025-08-23T19:50:33.472Z"
   },
   {
    "duration": 13,
    "start_time": "2025-08-23T19:50:48.366Z"
   },
   {
    "duration": 10,
    "start_time": "2025-08-23T20:37:11.875Z"
   },
   {
    "duration": 15,
    "start_time": "2025-08-23T20:37:18.970Z"
   },
   {
    "duration": 6,
    "start_time": "2025-08-23T20:51:11.078Z"
   },
   {
    "duration": 13,
    "start_time": "2025-08-23T20:51:20.489Z"
   },
   {
    "duration": 1097,
    "start_time": "2025-08-23T20:59:39.643Z"
   },
   {
    "duration": 28,
    "start_time": "2025-08-23T20:59:40.744Z"
   },
   {
    "duration": 28,
    "start_time": "2025-08-23T20:59:40.775Z"
   },
   {
    "duration": 5,
    "start_time": "2025-08-23T20:59:40.806Z"
   },
   {
    "duration": 5,
    "start_time": "2025-08-23T20:59:40.813Z"
   },
   {
    "duration": 5,
    "start_time": "2025-08-23T20:59:40.820Z"
   },
   {
    "duration": 6,
    "start_time": "2025-08-23T20:59:40.827Z"
   },
   {
    "duration": 41,
    "start_time": "2025-08-23T20:59:40.835Z"
   },
   {
    "duration": 7,
    "start_time": "2025-08-23T20:59:40.878Z"
   },
   {
    "duration": 7,
    "start_time": "2025-08-23T20:59:40.887Z"
   },
   {
    "duration": 25,
    "start_time": "2025-08-23T20:59:40.896Z"
   },
   {
    "duration": 62,
    "start_time": "2025-08-23T20:59:40.923Z"
   },
   {
    "duration": 5,
    "start_time": "2025-08-23T20:59:40.987Z"
   },
   {
    "duration": 11,
    "start_time": "2025-08-23T20:59:40.996Z"
   },
   {
    "duration": 11,
    "start_time": "2025-08-23T20:59:41.010Z"
   },
   {
    "duration": 50,
    "start_time": "2025-08-23T20:59:41.023Z"
   },
   {
    "duration": 11,
    "start_time": "2025-08-23T20:59:45.908Z"
   },
   {
    "duration": 193,
    "start_time": "2025-08-23T21:10:54.858Z"
   },
   {
    "duration": 189,
    "start_time": "2025-08-23T21:11:00.785Z"
   },
   {
    "duration": 185,
    "start_time": "2025-08-23T21:11:11.497Z"
   },
   {
    "duration": 187,
    "start_time": "2025-08-23T21:11:14.183Z"
   },
   {
    "duration": 12,
    "start_time": "2025-08-23T21:11:16.698Z"
   },
   {
    "duration": 203,
    "start_time": "2025-08-23T21:11:25.746Z"
   },
   {
    "duration": 200,
    "start_time": "2025-08-23T21:11:26.561Z"
   },
   {
    "duration": 15,
    "start_time": "2025-08-23T21:11:30.853Z"
   },
   {
    "duration": 11,
    "start_time": "2025-08-23T21:11:33.490Z"
   },
   {
    "duration": 601,
    "start_time": "2025-08-23T21:11:50.767Z"
   },
   {
    "duration": 21,
    "start_time": "2025-08-23T21:11:51.371Z"
   },
   {
    "duration": 28,
    "start_time": "2025-08-23T21:11:51.397Z"
   },
   {
    "duration": 35,
    "start_time": "2025-08-23T21:11:51.428Z"
   },
   {
    "duration": 6,
    "start_time": "2025-08-23T21:11:51.465Z"
   },
   {
    "duration": 16,
    "start_time": "2025-08-23T21:11:51.473Z"
   },
   {
    "duration": 11,
    "start_time": "2025-08-23T21:11:51.491Z"
   },
   {
    "duration": 22,
    "start_time": "2025-08-23T21:11:51.504Z"
   },
   {
    "duration": 8,
    "start_time": "2025-08-23T21:11:51.529Z"
   },
   {
    "duration": 26,
    "start_time": "2025-08-23T21:11:51.540Z"
   },
   {
    "duration": 35,
    "start_time": "2025-08-23T21:11:51.569Z"
   },
   {
    "duration": 25,
    "start_time": "2025-08-23T21:11:51.606Z"
   },
   {
    "duration": 29,
    "start_time": "2025-08-23T21:11:51.635Z"
   },
   {
    "duration": 12,
    "start_time": "2025-08-23T21:11:51.666Z"
   },
   {
    "duration": 13,
    "start_time": "2025-08-23T21:11:51.680Z"
   },
   {
    "duration": 13,
    "start_time": "2025-08-23T21:11:51.694Z"
   },
   {
    "duration": 229,
    "start_time": "2025-08-23T21:11:51.709Z"
   },
   {
    "duration": 199,
    "start_time": "2025-08-23T21:11:51.940Z"
   },
   {
    "duration": 17,
    "start_time": "2025-08-23T21:11:59.000Z"
   },
   {
    "duration": 183,
    "start_time": "2025-08-23T21:15:12.070Z"
   },
   {
    "duration": 14,
    "start_time": "2025-08-23T21:15:16.324Z"
   },
   {
    "duration": 5,
    "start_time": "2025-08-23T21:15:56.966Z"
   },
   {
    "duration": 13,
    "start_time": "2025-08-23T21:15:59.699Z"
   },
   {
    "duration": 6,
    "start_time": "2025-08-23T21:17:27.873Z"
   },
   {
    "duration": 7,
    "start_time": "2025-08-23T21:18:56.199Z"
   },
   {
    "duration": 6,
    "start_time": "2025-08-23T21:19:19.930Z"
   },
   {
    "duration": 7,
    "start_time": "2025-08-23T21:19:56.476Z"
   },
   {
    "duration": 7,
    "start_time": "2025-08-23T21:19:59.824Z"
   },
   {
    "duration": 9,
    "start_time": "2025-08-23T21:31:05.444Z"
   },
   {
    "duration": 9,
    "start_time": "2025-08-23T21:31:07.753Z"
   },
   {
    "duration": 10,
    "start_time": "2025-08-23T21:34:16.659Z"
   },
   {
    "duration": 8,
    "start_time": "2025-08-23T21:34:19.019Z"
   },
   {
    "duration": 14,
    "start_time": "2025-08-23T21:37:21.072Z"
   },
   {
    "duration": 8,
    "start_time": "2025-08-23T21:37:29.035Z"
   },
   {
    "duration": 6,
    "start_time": "2025-08-23T21:37:49.171Z"
   },
   {
    "duration": 12,
    "start_time": "2025-08-23T21:37:50.925Z"
   },
   {
    "duration": 5,
    "start_time": "2025-08-23T21:37:56.233Z"
   },
   {
    "duration": 73,
    "start_time": "2025-08-23T21:40:12.766Z"
   },
   {
    "duration": 12,
    "start_time": "2025-08-23T21:42:25.832Z"
   },
   {
    "duration": 5,
    "start_time": "2025-08-23T21:42:36.376Z"
   },
   {
    "duration": 550,
    "start_time": "2025-08-23T21:42:55.520Z"
   },
   {
    "duration": 23,
    "start_time": "2025-08-23T21:42:56.073Z"
   },
   {
    "duration": 24,
    "start_time": "2025-08-23T21:42:56.099Z"
   },
   {
    "duration": 5,
    "start_time": "2025-08-23T21:42:56.126Z"
   },
   {
    "duration": 5,
    "start_time": "2025-08-23T21:42:56.161Z"
   },
   {
    "duration": 7,
    "start_time": "2025-08-23T21:42:56.168Z"
   },
   {
    "duration": 8,
    "start_time": "2025-08-23T21:42:56.178Z"
   },
   {
    "duration": 7,
    "start_time": "2025-08-23T21:42:56.188Z"
   },
   {
    "duration": 8,
    "start_time": "2025-08-23T21:42:56.197Z"
   },
   {
    "duration": 55,
    "start_time": "2025-08-23T21:42:56.208Z"
   },
   {
    "duration": 72,
    "start_time": "2025-08-23T21:42:56.266Z"
   },
   {
    "duration": 28,
    "start_time": "2025-08-23T21:42:56.341Z"
   },
   {
    "duration": 7,
    "start_time": "2025-08-23T21:42:56.372Z"
   },
   {
    "duration": 15,
    "start_time": "2025-08-23T21:42:56.382Z"
   },
   {
    "duration": 12,
    "start_time": "2025-08-23T21:42:56.399Z"
   },
   {
    "duration": 11,
    "start_time": "2025-08-23T21:42:56.413Z"
   },
   {
    "duration": 264,
    "start_time": "2025-08-23T21:42:56.426Z"
   },
   {
    "duration": 218,
    "start_time": "2025-08-23T21:42:56.692Z"
   },
   {
    "duration": 4,
    "start_time": "2025-08-23T21:42:56.912Z"
   },
   {
    "duration": 40,
    "start_time": "2025-08-23T21:42:56.917Z"
   },
   {
    "duration": 18,
    "start_time": "2025-08-23T21:42:56.959Z"
   },
   {
    "duration": 6,
    "start_time": "2025-08-23T21:42:56.981Z"
   },
   {
    "duration": 11,
    "start_time": "2025-08-23T21:42:56.990Z"
   },
   {
    "duration": 7,
    "start_time": "2025-08-23T21:42:57.003Z"
   },
   {
    "duration": 8,
    "start_time": "2025-08-23T21:42:57.013Z"
   },
   {
    "duration": 25,
    "start_time": "2025-08-23T21:42:57.062Z"
   },
   {
    "duration": 9,
    "start_time": "2025-08-23T21:43:00.070Z"
   },
   {
    "duration": 10,
    "start_time": "2025-08-23T21:43:44.500Z"
   },
   {
    "duration": 6,
    "start_time": "2025-08-23T21:43:46.797Z"
   },
   {
    "duration": 22,
    "start_time": "2025-08-23T21:49:56.842Z"
   },
   {
    "duration": 18,
    "start_time": "2025-08-23T21:58:12.789Z"
   },
   {
    "duration": 19,
    "start_time": "2025-08-23T21:58:14.490Z"
   },
   {
    "duration": 28,
    "start_time": "2025-08-23T21:59:20.461Z"
   },
   {
    "duration": 17,
    "start_time": "2025-08-23T22:00:05.627Z"
   },
   {
    "duration": 5,
    "start_time": "2025-08-23T22:01:41.655Z"
   },
   {
    "duration": 71,
    "start_time": "2025-08-23T22:02:05.239Z"
   },
   {
    "duration": 4,
    "start_time": "2025-08-23T22:02:14.314Z"
   },
   {
    "duration": 76,
    "start_time": "2025-08-23T22:03:49.521Z"
   },
   {
    "duration": 87,
    "start_time": "2025-08-23T22:04:02.426Z"
   },
   {
    "duration": 31,
    "start_time": "2025-08-23T22:04:32.497Z"
   },
   {
    "duration": 6,
    "start_time": "2025-08-23T22:04:45.755Z"
   },
   {
    "duration": 4,
    "start_time": "2025-08-23T22:06:05.206Z"
   },
   {
    "duration": 6,
    "start_time": "2025-08-23T22:08:34.439Z"
   },
   {
    "duration": 6,
    "start_time": "2025-08-23T22:08:58.404Z"
   },
   {
    "duration": 5,
    "start_time": "2025-08-23T22:09:11.873Z"
   },
   {
    "duration": 81,
    "start_time": "2025-08-23T22:12:48.945Z"
   },
   {
    "duration": 104,
    "start_time": "2025-08-23T22:12:55.742Z"
   },
   {
    "duration": 115,
    "start_time": "2025-08-23T22:13:02.080Z"
   },
   {
    "duration": 5,
    "start_time": "2025-08-23T22:13:13.990Z"
   },
   {
    "duration": 6,
    "start_time": "2025-08-23T22:13:24.416Z"
   },
   {
    "duration": 6,
    "start_time": "2025-08-23T22:13:27.204Z"
   },
   {
    "duration": 103,
    "start_time": "2025-08-23T22:13:35.209Z"
   },
   {
    "duration": 5,
    "start_time": "2025-08-23T22:13:43.508Z"
   },
   {
    "duration": 4,
    "start_time": "2025-08-23T22:13:55.620Z"
   },
   {
    "duration": 47,
    "start_time": "2025-08-24T11:11:18.469Z"
   },
   {
    "duration": 547,
    "start_time": "2025-08-24T11:11:29.998Z"
   },
   {
    "duration": 17,
    "start_time": "2025-08-24T11:11:30.547Z"
   },
   {
    "duration": 78,
    "start_time": "2025-08-24T11:11:30.566Z"
   },
   {
    "duration": 45,
    "start_time": "2025-08-24T11:11:30.645Z"
   },
   {
    "duration": 18,
    "start_time": "2025-08-24T11:11:30.692Z"
   },
   {
    "duration": 11,
    "start_time": "2025-08-24T11:11:30.712Z"
   },
   {
    "duration": 88,
    "start_time": "2025-08-24T11:11:30.724Z"
   },
   {
    "duration": 9,
    "start_time": "2025-08-24T11:11:30.814Z"
   },
   {
    "duration": 44,
    "start_time": "2025-08-24T11:11:30.825Z"
   },
   {
    "duration": 112,
    "start_time": "2025-08-24T11:11:30.870Z"
   },
   {
    "duration": 31,
    "start_time": "2025-08-24T11:11:30.983Z"
   },
   {
    "duration": 20,
    "start_time": "2025-08-24T11:11:31.015Z"
   },
   {
    "duration": 12,
    "start_time": "2025-08-24T11:11:31.036Z"
   },
   {
    "duration": 31,
    "start_time": "2025-08-24T11:11:31.051Z"
   },
   {
    "duration": 13,
    "start_time": "2025-08-24T11:11:31.083Z"
   },
   {
    "duration": 9,
    "start_time": "2025-08-24T11:11:31.098Z"
   },
   {
    "duration": 186,
    "start_time": "2025-08-24T11:11:31.109Z"
   },
   {
    "duration": 170,
    "start_time": "2025-08-24T11:11:31.297Z"
   },
   {
    "duration": 9,
    "start_time": "2025-08-24T11:11:31.469Z"
   },
   {
    "duration": 20,
    "start_time": "2025-08-24T11:11:31.479Z"
   },
   {
    "duration": 16,
    "start_time": "2025-08-24T11:11:31.501Z"
   },
   {
    "duration": 51,
    "start_time": "2025-08-24T11:11:31.519Z"
   },
   {
    "duration": 54,
    "start_time": "2025-08-24T11:11:31.574Z"
   },
   {
    "duration": 110,
    "start_time": "2025-08-24T11:11:31.631Z"
   },
   {
    "duration": 47,
    "start_time": "2025-08-24T11:11:31.742Z"
   },
   {
    "duration": 25,
    "start_time": "2025-08-24T11:11:31.791Z"
   },
   {
    "duration": 36,
    "start_time": "2025-08-24T11:11:31.817Z"
   },
   {
    "duration": 19,
    "start_time": "2025-08-24T11:11:31.855Z"
   },
   {
    "duration": 3,
    "start_time": "2025-08-24T11:11:31.876Z"
   },
   {
    "duration": 9,
    "start_time": "2025-08-24T11:11:31.881Z"
   },
   {
    "duration": 6,
    "start_time": "2025-08-24T11:11:38.025Z"
   },
   {
    "duration": 22,
    "start_time": "2025-08-24T11:11:46.554Z"
   },
   {
    "duration": 10,
    "start_time": "2025-08-24T11:15:56.091Z"
   },
   {
    "duration": 23,
    "start_time": "2025-08-24T11:16:03.098Z"
   },
   {
    "duration": 1460,
    "start_time": "2025-08-24T11:30:36.018Z"
   },
   {
    "duration": 5,
    "start_time": "2025-08-24T11:31:04.133Z"
   },
   {
    "duration": 23,
    "start_time": "2025-08-24T11:31:24.086Z"
   },
   {
    "duration": 24,
    "start_time": "2025-08-24T11:32:22.487Z"
   },
   {
    "duration": 6,
    "start_time": "2025-08-24T11:37:02.703Z"
   },
   {
    "duration": 7,
    "start_time": "2025-08-24T11:37:11.666Z"
   },
   {
    "duration": 13,
    "start_time": "2025-08-24T11:37:38.976Z"
   },
   {
    "duration": 8,
    "start_time": "2025-08-24T11:39:22.968Z"
   },
   {
    "duration": 87,
    "start_time": "2025-08-24T11:40:03.036Z"
   },
   {
    "duration": 86,
    "start_time": "2025-08-24T11:40:25.116Z"
   },
   {
    "duration": 92,
    "start_time": "2025-08-24T11:40:29.314Z"
   },
   {
    "duration": 8,
    "start_time": "2025-08-24T11:41:15.033Z"
   },
   {
    "duration": 10,
    "start_time": "2025-08-24T11:41:20.541Z"
   },
   {
    "duration": 8,
    "start_time": "2025-08-24T11:41:50.996Z"
   },
   {
    "duration": 9,
    "start_time": "2025-08-24T11:42:22.622Z"
   },
   {
    "duration": 10,
    "start_time": "2025-08-24T11:43:00.293Z"
   },
   {
    "duration": 10,
    "start_time": "2025-08-24T11:43:26.865Z"
   },
   {
    "duration": 10,
    "start_time": "2025-08-24T11:46:28.071Z"
   },
   {
    "duration": 12,
    "start_time": "2025-08-24T11:46:38.638Z"
   },
   {
    "duration": 11,
    "start_time": "2025-08-24T11:47:17.735Z"
   },
   {
    "duration": 12,
    "start_time": "2025-08-24T11:47:49.334Z"
   },
   {
    "duration": 8,
    "start_time": "2025-08-24T11:47:53.240Z"
   },
   {
    "duration": 9,
    "start_time": "2025-08-24T11:47:57.251Z"
   },
   {
    "duration": 12,
    "start_time": "2025-08-24T11:52:20.142Z"
   },
   {
    "duration": 12,
    "start_time": "2025-08-24T11:54:48.873Z"
   },
   {
    "duration": 11,
    "start_time": "2025-08-24T11:55:22.942Z"
   },
   {
    "duration": 12,
    "start_time": "2025-08-24T11:57:34.096Z"
   },
   {
    "duration": 11,
    "start_time": "2025-08-24T11:57:43.527Z"
   },
   {
    "duration": 9,
    "start_time": "2025-08-24T11:58:05.427Z"
   },
   {
    "duration": 7,
    "start_time": "2025-08-24T11:58:21.884Z"
   },
   {
    "duration": 10,
    "start_time": "2025-08-24T11:58:26.860Z"
   },
   {
    "duration": 9,
    "start_time": "2025-08-24T11:58:52.382Z"
   },
   {
    "duration": 574,
    "start_time": "2025-08-24T12:05:51.198Z"
   },
   {
    "duration": 28,
    "start_time": "2025-08-24T12:05:51.773Z"
   },
   {
    "duration": 19,
    "start_time": "2025-08-24T12:05:51.802Z"
   },
   {
    "duration": 4,
    "start_time": "2025-08-24T12:05:51.823Z"
   },
   {
    "duration": 4,
    "start_time": "2025-08-24T12:05:51.829Z"
   },
   {
    "duration": 16,
    "start_time": "2025-08-24T12:05:51.835Z"
   },
   {
    "duration": 6,
    "start_time": "2025-08-24T12:05:51.853Z"
   },
   {
    "duration": 25,
    "start_time": "2025-08-24T12:05:51.861Z"
   },
   {
    "duration": 14,
    "start_time": "2025-08-24T12:05:51.889Z"
   },
   {
    "duration": 34,
    "start_time": "2025-08-24T12:05:51.905Z"
   },
   {
    "duration": 28,
    "start_time": "2025-08-24T12:05:51.941Z"
   },
   {
    "duration": 35,
    "start_time": "2025-08-24T12:05:51.970Z"
   },
   {
    "duration": 22,
    "start_time": "2025-08-24T12:05:52.009Z"
   },
   {
    "duration": 57,
    "start_time": "2025-08-24T12:05:52.036Z"
   },
   {
    "duration": 12,
    "start_time": "2025-08-24T12:05:52.095Z"
   },
   {
    "duration": 9,
    "start_time": "2025-08-24T12:05:52.108Z"
   },
   {
    "duration": 203,
    "start_time": "2025-08-24T12:05:52.119Z"
   },
   {
    "duration": 188,
    "start_time": "2025-08-24T12:05:52.324Z"
   },
   {
    "duration": 4,
    "start_time": "2025-08-24T12:05:52.513Z"
   },
   {
    "duration": 13,
    "start_time": "2025-08-24T12:05:52.519Z"
   },
   {
    "duration": 7,
    "start_time": "2025-08-24T12:05:52.533Z"
   },
   {
    "duration": 8,
    "start_time": "2025-08-24T12:05:52.542Z"
   },
   {
    "duration": 9,
    "start_time": "2025-08-24T12:05:52.551Z"
   },
   {
    "duration": 19,
    "start_time": "2025-08-24T12:05:52.561Z"
   },
   {
    "duration": 9,
    "start_time": "2025-08-24T12:05:52.582Z"
   },
   {
    "duration": 18,
    "start_time": "2025-08-24T12:05:52.593Z"
   },
   {
    "duration": 29,
    "start_time": "2025-08-24T12:05:52.613Z"
   },
   {
    "duration": 13,
    "start_time": "2025-08-24T12:05:52.643Z"
   },
   {
    "duration": 30,
    "start_time": "2025-08-24T12:05:52.657Z"
   },
   {
    "duration": 28,
    "start_time": "2025-08-24T12:05:52.690Z"
   },
   {
    "duration": 26,
    "start_time": "2025-08-24T12:05:52.719Z"
   },
   {
    "duration": 47,
    "start_time": "2025-08-24T12:05:52.747Z"
   },
   {
    "duration": 9,
    "start_time": "2025-08-24T12:05:52.796Z"
   },
   {
    "duration": 14,
    "start_time": "2025-08-24T12:05:52.807Z"
   },
   {
    "duration": 538,
    "start_time": "2025-08-24T20:23:48.628Z"
   },
   {
    "duration": 20,
    "start_time": "2025-08-24T20:23:49.168Z"
   },
   {
    "duration": 21,
    "start_time": "2025-08-24T20:23:49.190Z"
   },
   {
    "duration": 4,
    "start_time": "2025-08-24T20:23:49.212Z"
   },
   {
    "duration": 4,
    "start_time": "2025-08-24T20:23:49.218Z"
   },
   {
    "duration": 26,
    "start_time": "2025-08-24T20:23:49.224Z"
   },
   {
    "duration": 4,
    "start_time": "2025-08-24T20:23:49.252Z"
   },
   {
    "duration": 6,
    "start_time": "2025-08-24T20:23:49.258Z"
   },
   {
    "duration": 8,
    "start_time": "2025-08-24T20:23:49.266Z"
   },
   {
    "duration": 6,
    "start_time": "2025-08-24T20:23:49.276Z"
   },
   {
    "duration": 29,
    "start_time": "2025-08-24T20:23:49.284Z"
   },
   {
    "duration": 49,
    "start_time": "2025-08-24T20:23:49.315Z"
   },
   {
    "duration": 5,
    "start_time": "2025-08-24T20:23:49.365Z"
   },
   {
    "duration": 13,
    "start_time": "2025-08-24T20:23:49.373Z"
   },
   {
    "duration": 11,
    "start_time": "2025-08-24T20:23:49.387Z"
   },
   {
    "duration": 9,
    "start_time": "2025-08-24T20:23:49.400Z"
   },
   {
    "duration": 220,
    "start_time": "2025-08-24T20:23:49.411Z"
   },
   {
    "duration": 200,
    "start_time": "2025-08-24T20:23:49.633Z"
   },
   {
    "duration": 4,
    "start_time": "2025-08-24T20:23:49.835Z"
   },
   {
    "duration": 24,
    "start_time": "2025-08-24T20:23:49.849Z"
   },
   {
    "duration": 11,
    "start_time": "2025-08-24T20:23:49.874Z"
   },
   {
    "duration": 21,
    "start_time": "2025-08-24T20:23:49.887Z"
   },
   {
    "duration": 9,
    "start_time": "2025-08-24T20:23:49.910Z"
   },
   {
    "duration": 6,
    "start_time": "2025-08-24T20:23:49.920Z"
   },
   {
    "duration": 5,
    "start_time": "2025-08-24T20:23:49.928Z"
   },
   {
    "duration": 18,
    "start_time": "2025-08-24T20:23:49.934Z"
   },
   {
    "duration": 20,
    "start_time": "2025-08-24T20:23:49.954Z"
   },
   {
    "duration": 15,
    "start_time": "2025-08-24T20:23:49.976Z"
   },
   {
    "duration": 4,
    "start_time": "2025-08-24T20:23:49.993Z"
   },
   {
    "duration": 34,
    "start_time": "2025-08-24T20:23:49.998Z"
   },
   {
    "duration": 26,
    "start_time": "2025-08-24T20:23:50.050Z"
   },
   {
    "duration": 90,
    "start_time": "2025-08-24T20:23:50.078Z"
   },
   {
    "duration": 12,
    "start_time": "2025-08-24T20:23:50.171Z"
   },
   {
    "duration": 68,
    "start_time": "2025-08-24T20:23:50.186Z"
   },
   {
    "duration": 45,
    "start_time": "2025-08-24T20:28:35.494Z"
   },
   {
    "duration": 18,
    "start_time": "2025-08-24T20:30:17.756Z"
   },
   {
    "duration": 28,
    "start_time": "2025-08-24T20:33:53.888Z"
   },
   {
    "duration": 28,
    "start_time": "2025-08-24T20:33:58.410Z"
   },
   {
    "duration": 10,
    "start_time": "2025-08-24T20:33:59.737Z"
   },
   {
    "duration": 46,
    "start_time": "2025-08-24T20:34:01.514Z"
   },
   {
    "duration": 26,
    "start_time": "2025-08-24T20:34:10.178Z"
   },
   {
    "duration": 28,
    "start_time": "2025-08-24T20:34:15.710Z"
   },
   {
    "duration": 9,
    "start_time": "2025-08-24T20:34:16.701Z"
   },
   {
    "duration": 43,
    "start_time": "2025-08-24T20:34:18.107Z"
   },
   {
    "duration": 46,
    "start_time": "2025-08-24T21:10:02.884Z"
   },
   {
    "duration": 403,
    "start_time": "2025-08-24T21:10:12.653Z"
   },
   {
    "duration": 118,
    "start_time": "2025-08-24T21:10:13.058Z"
   },
   {
    "duration": 17,
    "start_time": "2025-08-24T21:10:13.178Z"
   },
   {
    "duration": 27,
    "start_time": "2025-08-24T21:10:13.196Z"
   },
   {
    "duration": 4,
    "start_time": "2025-08-24T21:10:13.225Z"
   },
   {
    "duration": 12,
    "start_time": "2025-08-24T21:10:13.230Z"
   },
   {
    "duration": 5,
    "start_time": "2025-08-24T21:10:13.243Z"
   },
   {
    "duration": 4,
    "start_time": "2025-08-24T21:10:13.249Z"
   },
   {
    "duration": 5,
    "start_time": "2025-08-24T21:10:13.255Z"
   },
   {
    "duration": 5,
    "start_time": "2025-08-24T21:10:13.262Z"
   },
   {
    "duration": 11,
    "start_time": "2025-08-24T21:10:13.268Z"
   },
   {
    "duration": 21,
    "start_time": "2025-08-24T21:10:13.281Z"
   },
   {
    "duration": 57,
    "start_time": "2025-08-24T21:10:13.303Z"
   },
   {
    "duration": 5,
    "start_time": "2025-08-24T21:10:13.364Z"
   },
   {
    "duration": 11,
    "start_time": "2025-08-24T21:10:13.370Z"
   },
   {
    "duration": 13,
    "start_time": "2025-08-24T21:10:13.383Z"
   },
   {
    "duration": 9,
    "start_time": "2025-08-24T21:10:13.398Z"
   },
   {
    "duration": 177,
    "start_time": "2025-08-24T21:10:13.440Z"
   },
   {
    "duration": 167,
    "start_time": "2025-08-24T21:10:13.619Z"
   },
   {
    "duration": 4,
    "start_time": "2025-08-24T21:10:13.787Z"
   },
   {
    "duration": 6,
    "start_time": "2025-08-24T21:10:13.792Z"
   },
   {
    "duration": 19,
    "start_time": "2025-08-24T21:10:13.800Z"
   },
   {
    "duration": 12,
    "start_time": "2025-08-24T21:10:13.821Z"
   },
   {
    "duration": 8,
    "start_time": "2025-08-24T21:10:13.839Z"
   },
   {
    "duration": 4,
    "start_time": "2025-08-24T21:10:13.848Z"
   },
   {
    "duration": 6,
    "start_time": "2025-08-24T21:10:13.853Z"
   },
   {
    "duration": 10,
    "start_time": "2025-08-24T21:10:13.860Z"
   },
   {
    "duration": 14,
    "start_time": "2025-08-24T21:10:13.871Z"
   },
   {
    "duration": 14,
    "start_time": "2025-08-24T21:10:13.886Z"
   },
   {
    "duration": 4,
    "start_time": "2025-08-24T21:10:13.901Z"
   },
   {
    "duration": 54,
    "start_time": "2025-08-24T21:10:13.906Z"
   },
   {
    "duration": 23,
    "start_time": "2025-08-24T21:10:13.961Z"
   },
   {
    "duration": 25,
    "start_time": "2025-08-24T21:10:13.985Z"
   },
   {
    "duration": 9,
    "start_time": "2025-08-24T21:10:14.039Z"
   },
   {
    "duration": 9,
    "start_time": "2025-08-24T21:10:14.050Z"
   },
   {
    "duration": 471,
    "start_time": "2025-08-25T08:56:08.292Z"
   },
   {
    "duration": 138,
    "start_time": "2025-08-25T08:56:08.765Z"
   },
   {
    "duration": 18,
    "start_time": "2025-08-25T08:56:08.905Z"
   },
   {
    "duration": 23,
    "start_time": "2025-08-25T08:56:08.926Z"
   },
   {
    "duration": 6,
    "start_time": "2025-08-25T08:56:08.963Z"
   },
   {
    "duration": 21,
    "start_time": "2025-08-25T08:56:08.971Z"
   },
   {
    "duration": 10,
    "start_time": "2025-08-25T08:56:08.995Z"
   },
   {
    "duration": 52,
    "start_time": "2025-08-25T08:56:09.008Z"
   },
   {
    "duration": 7,
    "start_time": "2025-08-25T08:56:09.062Z"
   },
   {
    "duration": 13,
    "start_time": "2025-08-25T08:56:09.070Z"
   },
   {
    "duration": 15,
    "start_time": "2025-08-25T08:56:09.085Z"
   },
   {
    "duration": 43,
    "start_time": "2025-08-25T08:56:09.102Z"
   },
   {
    "duration": 21,
    "start_time": "2025-08-25T08:56:09.147Z"
   },
   {
    "duration": 6,
    "start_time": "2025-08-25T08:56:09.172Z"
   },
   {
    "duration": 22,
    "start_time": "2025-08-25T08:56:09.179Z"
   },
   {
    "duration": 15,
    "start_time": "2025-08-25T08:56:09.203Z"
   },
   {
    "duration": 14,
    "start_time": "2025-08-25T08:56:09.220Z"
   },
   {
    "duration": 220,
    "start_time": "2025-08-25T08:56:09.236Z"
   },
   {
    "duration": 189,
    "start_time": "2025-08-25T08:56:09.461Z"
   },
   {
    "duration": 4,
    "start_time": "2025-08-25T08:56:09.660Z"
   },
   {
    "duration": 14,
    "start_time": "2025-08-25T08:56:09.666Z"
   },
   {
    "duration": 22,
    "start_time": "2025-08-25T08:56:09.682Z"
   },
   {
    "duration": 16,
    "start_time": "2025-08-25T08:56:09.706Z"
   },
   {
    "duration": 11,
    "start_time": "2025-08-25T08:56:09.725Z"
   },
   {
    "duration": 20,
    "start_time": "2025-08-25T08:56:09.738Z"
   },
   {
    "duration": 14,
    "start_time": "2025-08-25T08:56:09.760Z"
   },
   {
    "duration": 13,
    "start_time": "2025-08-25T08:56:09.776Z"
   },
   {
    "duration": 20,
    "start_time": "2025-08-25T08:56:09.791Z"
   },
   {
    "duration": 17,
    "start_time": "2025-08-25T08:56:09.814Z"
   },
   {
    "duration": 28,
    "start_time": "2025-08-25T08:56:09.833Z"
   },
   {
    "duration": 38,
    "start_time": "2025-08-25T08:56:09.863Z"
   },
   {
    "duration": 31,
    "start_time": "2025-08-25T08:56:09.903Z"
   },
   {
    "duration": 64,
    "start_time": "2025-08-25T08:56:09.935Z"
   },
   {
    "duration": 11,
    "start_time": "2025-08-25T08:56:10.001Z"
   },
   {
    "duration": 66,
    "start_time": "2025-08-25T08:56:10.014Z"
   }
  ],
  "colab": {
   "provenance": []
  },
  "kernelspec": {
   "display_name": "Python 3 (ipykernel)",
   "language": "python",
   "name": "python3"
  },
  "language_info": {
   "codemirror_mode": {
    "name": "ipython",
    "version": 3
   },
   "file_extension": ".py",
   "mimetype": "text/x-python",
   "name": "python",
   "nbconvert_exporter": "python",
   "pygments_lexer": "ipython3",
   "version": "3.9.5"
  },
  "toc": {
   "base_numbering": 1,
   "nav_menu": {},
   "number_sections": true,
   "sideBar": true,
   "skip_h1_title": true,
   "title_cell": "Table of Contents",
   "title_sidebar": "Contents",
   "toc_cell": false,
   "toc_position": {
    "height": "calc(100% - 180px)",
    "left": "10px",
    "top": "150px",
    "width": "294.388px"
   },
   "toc_section_display": true,
   "toc_window_display": false
  }
 },
 "nbformat": 4,
 "nbformat_minor": 5
}
